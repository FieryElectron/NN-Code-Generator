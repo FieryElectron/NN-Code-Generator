{
 "cells": [
  {
   "cell_type": "code",
   "execution_count": 1,
   "metadata": {},
   "outputs": [],
   "source": [
    "seed_value= 0\n",
    "\n",
    "import os\n",
    "# os.environ['CUDA_VISIBLE_DEVICES'] = '-1'\n",
    "os.environ['PYTHONHASHSEED']=str(seed_value)\n",
    "\n",
    "import random\n",
    "random.seed(seed_value)\n",
    "\n",
    "import numpy as np\n",
    "np.random.seed(seed_value)\n",
    "\n",
    "import tensorflow as tf\n",
    "tf.random.set_seed(seed_value)\n",
    "\n",
    "from sklearn.utils import shuffle\n",
    "\n",
    "import matplotlib.pyplot as plt\n",
    "\n",
    "from tensorflow.keras.preprocessing.sequence import pad_sequences\n",
    "import itertools\n",
    "import time"
   ]
  },
  {
   "cell_type": "code",
   "execution_count": 2,
   "metadata": {
    "execution": {
     "iopub.execute_input": "2021-04-02T02:32:57.236722Z",
     "iopub.status.busy": "2021-04-02T02:32:57.236089Z",
     "iopub.status.idle": "2021-04-02T02:32:57.237824Z",
     "shell.execute_reply": "2021-04-02T02:32:57.238198Z"
    },
    "id": "WhIOZjMNKujn"
   },
   "outputs": [],
   "source": [
    "def get_angles(pos, i, d_model):\n",
    "    angle_rates = 1 / np.power(10000, (2 * (i//2)) / np.float32(d_model))\n",
    "    return pos * angle_rates"
   ]
  },
  {
   "cell_type": "code",
   "execution_count": 3,
   "metadata": {
    "execution": {
     "iopub.execute_input": "2021-04-02T02:32:57.243772Z",
     "iopub.status.busy": "2021-04-02T02:32:57.243178Z",
     "iopub.status.idle": "2021-04-02T02:32:57.245398Z",
     "shell.execute_reply": "2021-04-02T02:32:57.244918Z"
    },
    "id": "1Rz82wEs5biZ"
   },
   "outputs": [],
   "source": [
    "def positional_encoding(position, d_model):\n",
    "    angle_rads = get_angles(np.arange(position)[:, np.newaxis],np.arange(d_model)[np.newaxis, :],d_model)\n",
    "\n",
    "    # apply sin to even indices in the array; 2i\n",
    "    angle_rads[:, 0::2] = np.sin(angle_rads[:, 0::2])\n",
    "\n",
    "    # apply cos to odd indices in the array; 2i+1\n",
    "    angle_rads[:, 1::2] = np.cos(angle_rads[:, 1::2])\n",
    "\n",
    "    pos_encoding = angle_rads[np.newaxis, ...]\n",
    "\n",
    "    return tf.cast(pos_encoding, dtype=tf.float32)"
   ]
  },
  {
   "cell_type": "code",
   "execution_count": 4,
   "metadata": {
    "execution": {
     "iopub.execute_input": "2021-04-02T02:32:57.969177Z",
     "iopub.status.busy": "2021-04-02T02:32:57.968477Z",
     "iopub.status.idle": "2021-04-02T02:32:57.970608Z",
     "shell.execute_reply": "2021-04-02T02:32:57.970998Z"
    },
    "id": "U2i8-e1s8ti9"
   },
   "outputs": [],
   "source": [
    "def create_padding_mask(seq):\n",
    "    seq = tf.cast(tf.math.equal(seq, 0), tf.float32)\n",
    "    return seq[:, tf.newaxis, tf.newaxis, :]  # (batch_size, 1, 1, seq_len)"
   ]
  },
  {
   "cell_type": "code",
   "execution_count": 5,
   "metadata": {
    "execution": {
     "iopub.execute_input": "2021-04-02T02:32:57.985923Z",
     "iopub.status.busy": "2021-04-02T02:32:57.985280Z",
     "iopub.status.idle": "2021-04-02T02:32:57.987968Z",
     "shell.execute_reply": "2021-04-02T02:32:57.987475Z"
    },
    "id": "dVxS8OPI9uI0"
   },
   "outputs": [],
   "source": [
    "def create_look_ahead_mask(size):\n",
    "  mask = 1 - tf.linalg.band_part(tf.ones((size, size)), -1, 0)\n",
    "  return mask  # (seq_len, seq_len)"
   ]
  },
  {
   "cell_type": "code",
   "execution_count": 6,
   "metadata": {
    "execution": {
     "iopub.execute_input": "2021-04-02T02:32:58.004250Z",
     "iopub.status.busy": "2021-04-02T02:32:58.003576Z",
     "iopub.status.idle": "2021-04-02T02:32:58.006299Z",
     "shell.execute_reply": "2021-04-02T02:32:58.005763Z"
    },
    "id": "LazzUq3bJ5SH"
   },
   "outputs": [],
   "source": [
    "def scaled_dot_product_attention(q, k, v, mask):\n",
    "    \"\"\"Calculate the attention weights.\n",
    "    q, k, v must have matching leading dimensions.\n",
    "    k, v must have matching penultimate dimension, i.e.: seq_len_k = seq_len_v.\n",
    "    The mask has different shapes depending on its type(padding or look ahead)\n",
    "    but it must be broadcastable for addition.\n",
    "\n",
    "    Args:\n",
    "    q: query shape == (..., seq_len_q, depth)\n",
    "    k: key shape == (..., seq_len_k, depth)\n",
    "    v: value shape == (..., seq_len_v, depth_v)\n",
    "    mask: Float tensor with shape broadcastable\n",
    "          to (..., seq_len_q, seq_len_k). Defaults to None.\n",
    "\n",
    "    Returns:\n",
    "    output, attention_weights\n",
    "    \"\"\"\n",
    "\n",
    "    matmul_qk = tf.matmul(q, k, transpose_b=True)  # (..., seq_len_q, seq_len_k)\n",
    "\n",
    "    # scale matmul_qk\n",
    "    dk = tf.cast(tf.shape(k)[-1], tf.float32)\n",
    "    scaled_attention_logits = matmul_qk / tf.math.sqrt(dk)\n",
    "\n",
    "    # add the mask to the scaled tensor.\n",
    "    if mask is not None:\n",
    "        scaled_attention_logits += (mask * -1e9)\n",
    "\n",
    "    # softmax is normalized on the last axis (seq_len_k) so that the scores\n",
    "    # add up to 1.\n",
    "    attention_weights = tf.nn.softmax(scaled_attention_logits, axis=-1)  # (..., seq_len_q, seq_len_k)\n",
    "\n",
    "    output = tf.matmul(attention_weights, v)  # (..., seq_len_q, depth_v)\n",
    "\n",
    "    return output, attention_weights"
   ]
  },
  {
   "cell_type": "code",
   "execution_count": 7,
   "metadata": {
    "execution": {
     "iopub.execute_input": "2021-04-02T02:32:58.435764Z",
     "iopub.status.busy": "2021-04-02T02:32:58.435152Z",
     "iopub.status.idle": "2021-04-02T02:32:58.436974Z",
     "shell.execute_reply": "2021-04-02T02:32:58.437356Z"
    },
    "id": "BSV3PPKsYecw"
   },
   "outputs": [],
   "source": [
    "class MultiHeadAttention(tf.keras.layers.Layer):\n",
    "    def __init__(self, d_model, num_heads):\n",
    "        super(MultiHeadAttention, self).__init__()\n",
    "        self.num_heads = num_heads\n",
    "        self.d_model = d_model\n",
    "\n",
    "        assert d_model % self.num_heads == 0\n",
    "\n",
    "        self.depth = d_model // self.num_heads\n",
    "\n",
    "        self.wq = tf.keras.layers.Dense(d_model)\n",
    "        self.wk = tf.keras.layers.Dense(d_model)\n",
    "        self.wv = tf.keras.layers.Dense(d_model)\n",
    "\n",
    "        self.dense = tf.keras.layers.Dense(d_model)\n",
    "\n",
    "    def split_heads(self, x, batch_size):\n",
    "        \"\"\"Split the last dimension into (num_heads, depth).\n",
    "        Transpose the result such that the shape is (batch_size, num_heads, seq_len, depth)\n",
    "        \"\"\"\n",
    "        x = tf.reshape(x, (batch_size, -1, self.num_heads, self.depth))\n",
    "        return tf.transpose(x, perm=[0, 2, 1, 3])\n",
    "\n",
    "    def call(self, v, k, q, mask):\n",
    "        batch_size = tf.shape(q)[0]\n",
    "\n",
    "        q = self.wq(q)  # (batch_size, seq_len, d_model)\n",
    "        k = self.wk(k)  # (batch_size, seq_len, d_model)\n",
    "        v = self.wv(v)  # (batch_size, seq_len, d_model)\n",
    "\n",
    "        q = self.split_heads(q, batch_size)  # (batch_size, num_heads, seq_len_q, depth)\n",
    "        k = self.split_heads(k, batch_size)  # (batch_size, num_heads, seq_len_k, depth)\n",
    "        v = self.split_heads(v, batch_size)  # (batch_size, num_heads, seq_len_v, depth)\n",
    "\n",
    "        # scaled_attention.shape == (batch_size, num_heads, seq_len_q, depth)\n",
    "        # attention_weights.shape == (batch_size, num_heads, seq_len_q, seq_len_k)\n",
    "        scaled_attention, attention_weights = scaled_dot_product_attention(q, k, v, mask)\n",
    "\n",
    "        scaled_attention = tf.transpose(scaled_attention, perm=[0, 2, 1, 3])  # (batch_size, seq_len_q, num_heads, depth)\n",
    "\n",
    "        concat_attention = tf.reshape(scaled_attention, (batch_size, -1, self.d_model))  # (batch_size, seq_len_q, d_model)\n",
    "\n",
    "        output = self.dense(concat_attention)  # (batch_size, seq_len_q, d_model)\n",
    "\n",
    "        return output, attention_weights"
   ]
  },
  {
   "cell_type": "code",
   "execution_count": 8,
   "metadata": {
    "execution": {
     "iopub.execute_input": "2021-04-02T02:32:58.479456Z",
     "iopub.status.busy": "2021-04-02T02:32:58.478868Z",
     "iopub.status.idle": "2021-04-02T02:32:58.480995Z",
     "shell.execute_reply": "2021-04-02T02:32:58.480432Z"
    },
    "id": "ET7xLt0yCT6Z"
   },
   "outputs": [],
   "source": [
    "def point_wise_feed_forward_network(d_model, dff):\n",
    "    return tf.keras.Sequential([\n",
    "        tf.keras.layers.Dense(dff, activation='relu'),  # (batch_size, seq_len, dff)\n",
    "        tf.keras.layers.Dense(d_model)  # (batch_size, seq_len, d_model)\n",
    "    ])"
   ]
  },
  {
   "cell_type": "code",
   "execution_count": 9,
   "metadata": {
    "execution": {
     "iopub.execute_input": "2021-04-02T02:32:58.519367Z",
     "iopub.status.busy": "2021-04-02T02:32:58.518766Z",
     "iopub.status.idle": "2021-04-02T02:32:58.521037Z",
     "shell.execute_reply": "2021-04-02T02:32:58.520517Z"
    },
    "id": "ncyS-Ms3i2x_"
   },
   "outputs": [],
   "source": [
    "class EncoderLayer(tf.keras.layers.Layer):\n",
    "    def __init__(self, d_model, num_heads, dff, rate=0.1):\n",
    "        super(EncoderLayer, self).__init__()\n",
    "\n",
    "        self.mha = MultiHeadAttention(d_model, num_heads)\n",
    "        self.ffn = point_wise_feed_forward_network(d_model, dff)\n",
    "\n",
    "        self.layernorm1 = tf.keras.layers.LayerNormalization(epsilon=1e-6)\n",
    "        self.layernorm2 = tf.keras.layers.LayerNormalization(epsilon=1e-6)\n",
    "\n",
    "        self.dropout1 = tf.keras.layers.Dropout(rate)\n",
    "        self.dropout2 = tf.keras.layers.Dropout(rate)\n",
    "\n",
    "    def call(self, x, training, mask):\n",
    "        attn_output, _ = self.mha(x, x, x, mask)  # (batch_size, input_seq_len, d_model)\n",
    "        attn_output = self.dropout1(attn_output, training=training)\n",
    "        out1 = self.layernorm1(x + attn_output)  # (batch_size, input_seq_len, d_model)\n",
    "\n",
    "        ffn_output = self.ffn(out1)  # (batch_size, input_seq_len, d_model)\n",
    "        ffn_output = self.dropout2(ffn_output, training=training)\n",
    "        out2 = self.layernorm2(out1 + ffn_output)  # (batch_size, input_seq_len, d_model)\n",
    "\n",
    "        return out2"
   ]
  },
  {
   "cell_type": "code",
   "execution_count": 10,
   "metadata": {
    "execution": {
     "iopub.execute_input": "2021-04-02T02:32:58.589255Z",
     "iopub.status.busy": "2021-04-02T02:32:58.584701Z",
     "iopub.status.idle": "2021-04-02T02:32:58.591431Z",
     "shell.execute_reply": "2021-04-02T02:32:58.590964Z"
    },
    "id": "9SoX0-vd1hue"
   },
   "outputs": [],
   "source": [
    "class DecoderLayer(tf.keras.layers.Layer):\n",
    "    def __init__(self, d_model, num_heads, dff, rate=0.1):\n",
    "        super(DecoderLayer, self).__init__()\n",
    "\n",
    "        self.mha1 = MultiHeadAttention(d_model, num_heads)\n",
    "        self.mha2 = MultiHeadAttention(d_model, num_heads)\n",
    "\n",
    "        self.ffn = point_wise_feed_forward_network(d_model, dff)\n",
    "\n",
    "        self.layernorm1 = tf.keras.layers.LayerNormalization(epsilon=1e-6)\n",
    "        self.layernorm2 = tf.keras.layers.LayerNormalization(epsilon=1e-6)\n",
    "        self.layernorm3 = tf.keras.layers.LayerNormalization(epsilon=1e-6)\n",
    "\n",
    "        self.dropout1 = tf.keras.layers.Dropout(rate)\n",
    "        self.dropout2 = tf.keras.layers.Dropout(rate)\n",
    "        self.dropout3 = tf.keras.layers.Dropout(rate)\n",
    "\n",
    "    def call(self, x, enc_output, training,look_ahead_mask, padding_mask):\n",
    "        # enc_output.shape == (batch_size, input_seq_len, d_model)\n",
    "\n",
    "        attn1, attn_weights_block1 = self.mha1(x, x, x, look_ahead_mask)  # (batch_size, target_seq_len, d_model)\n",
    "        attn1 = self.dropout1(attn1, training=training)\n",
    "        out1 = self.layernorm1(attn1 + x)\n",
    "\n",
    "        attn2, attn_weights_block2 = self.mha2(enc_output, enc_output, out1, padding_mask)#(batch_size, target_seq_len, d_model)\n",
    "        attn2 = self.dropout2(attn2, training=training)\n",
    "        out2 = self.layernorm2(attn2 + out1)  # (batch_size, target_seq_len, d_model)\n",
    "\n",
    "        ffn_output = self.ffn(out2)  # (batch_size, target_seq_len, d_model)\n",
    "        ffn_output = self.dropout3(ffn_output, training=training)\n",
    "        out3 = self.layernorm3(ffn_output + out2)  # (batch_size, target_seq_len, d_model)\n",
    "\n",
    "        return out3, attn_weights_block1, attn_weights_block2"
   ]
  },
  {
   "cell_type": "code",
   "execution_count": 11,
   "metadata": {
    "execution": {
     "iopub.execute_input": "2021-04-02T02:32:58.662723Z",
     "iopub.status.busy": "2021-04-02T02:32:58.662097Z",
     "iopub.status.idle": "2021-04-02T02:32:58.663689Z",
     "shell.execute_reply": "2021-04-02T02:32:58.664087Z"
    },
    "id": "jpEox7gJ8FCI"
   },
   "outputs": [],
   "source": [
    "class Encoder(tf.keras.layers.Layer):\n",
    "    def __init__(self, num_layers, d_model, num_heads, dff, input_vocab_size, maximum_position_encoding, rate=0.1):\n",
    "        super(Encoder, self).__init__()\n",
    "\n",
    "        self.d_model = d_model\n",
    "        self.num_layers = num_layers\n",
    "\n",
    "        self.embedding = tf.keras.layers.Embedding(input_vocab_size, d_model)\n",
    "        self.pos_encoding = positional_encoding(maximum_position_encoding,self.d_model)\n",
    "\n",
    "        self.enc_layers = [EncoderLayer(d_model, num_heads, dff, rate) for _ in range(num_layers)]\n",
    "\n",
    "        self.dropout = tf.keras.layers.Dropout(rate)\n",
    "\n",
    "    def call(self, x, training, mask):\n",
    "        seq_len = tf.shape(x)[1]\n",
    "\n",
    "        # adding embedding and position encoding.\n",
    "        x = self.embedding(x)  # (batch_size, input_seq_len, d_model)\n",
    "        x *= tf.math.sqrt(tf.cast(self.d_model, tf.float32))\n",
    "        x += self.pos_encoding[:, :seq_len, :]\n",
    "\n",
    "        x = self.dropout(x, training=training)\n",
    "\n",
    "        for i in range(self.num_layers):\n",
    "            x = self.enc_layers[i](x, training, mask)\n",
    "\n",
    "        return x  # (batch_size, input_seq_len, d_model)"
   ]
  },
  {
   "cell_type": "code",
   "execution_count": 12,
   "metadata": {
    "execution": {
     "iopub.execute_input": "2021-04-02T02:32:58.970031Z",
     "iopub.status.busy": "2021-04-02T02:32:58.964834Z",
     "iopub.status.idle": "2021-04-02T02:32:58.971799Z",
     "shell.execute_reply": "2021-04-02T02:32:58.972188Z"
    },
    "id": "d5_d5-PLQXwY"
   },
   "outputs": [],
   "source": [
    "class Decoder(tf.keras.layers.Layer):\n",
    "    def __init__(self, num_layers, d_model, num_heads, dff, target_vocab_size, maximum_position_encoding, rate=0.1):\n",
    "        super(Decoder, self).__init__()\n",
    "\n",
    "        self.d_model = d_model\n",
    "        self.num_layers = num_layers\n",
    "\n",
    "        self.embedding = tf.keras.layers.Embedding(target_vocab_size, d_model)\n",
    "        self.pos_encoding = positional_encoding(maximum_position_encoding, d_model)\n",
    "\n",
    "        self.dec_layers = [DecoderLayer(d_model, num_heads, dff, rate) for _ in range(num_layers)]\n",
    "        self.dropout = tf.keras.layers.Dropout(rate)\n",
    "\n",
    "    def call(self, x, enc_output, training, look_ahead_mask, padding_mask):\n",
    "\n",
    "        seq_len = tf.shape(x)[1]\n",
    "        attention_weights = {}\n",
    "\n",
    "        x = self.embedding(x)  # (batch_size, target_seq_len, d_model)\n",
    "        x *= tf.math.sqrt(tf.cast(self.d_model, tf.float32))\n",
    "        x += self.pos_encoding[:, :seq_len, :]\n",
    "\n",
    "        x = self.dropout(x, training=training)\n",
    "\n",
    "        for i in range(self.num_layers):\n",
    "            x, block1, block2 = self.dec_layers[i](x, enc_output, training,look_ahead_mask, padding_mask)\n",
    "\n",
    "            attention_weights[f'decoder_layer{i+1}_block1'] = block1\n",
    "            attention_weights[f'decoder_layer{i+1}_block2'] = block2\n",
    "\n",
    "        # x.shape == (batch_size, target_seq_len, d_model)\n",
    "        return x, attention_weights"
   ]
  },
  {
   "cell_type": "code",
   "execution_count": 13,
   "metadata": {
    "execution": {
     "iopub.execute_input": "2021-04-02T02:32:59.196786Z",
     "iopub.status.busy": "2021-04-02T02:32:59.196146Z",
     "iopub.status.idle": "2021-04-02T02:32:59.198307Z",
     "shell.execute_reply": "2021-04-02T02:32:59.197729Z"
    },
    "id": "PED3bIpOYkBu"
   },
   "outputs": [],
   "source": [
    "class Transformer(tf.keras.Model):\n",
    "    def __init__(self, num_layers, d_model, num_heads, dff, input_vocab_size, target_vocab_size, pe_input, pe_target, rate=0.1):\n",
    "        super(Transformer, self).__init__()\n",
    "\n",
    "        self.tokenizer = Encoder(num_layers, d_model, num_heads, dff,input_vocab_size, pe_input, rate)\n",
    "\n",
    "        self.decoder = Decoder(num_layers, d_model, num_heads, dff,target_vocab_size, pe_target, rate)\n",
    "\n",
    "        self.final_layer = tf.keras.layers.Dense(target_vocab_size)\n",
    "\n",
    "    def call(self, inp, tar, training, enc_padding_mask,look_ahead_mask, dec_padding_mask):\n",
    "\n",
    "        enc_output = self.tokenizer(inp, training, enc_padding_mask)  # (batch_size, inp_seq_len, d_model)\n",
    "\n",
    "        # dec_output.shape == (batch_size, tar_seq_len, d_model)\n",
    "        dec_output, attention_weights = self.decoder(tar, enc_output, training, look_ahead_mask, dec_padding_mask)\n",
    "\n",
    "        final_output = self.final_layer(dec_output)  # (batch_size, tar_seq_len, target_vocab_size)\n",
    "\n",
    "        return final_output, attention_weights"
   ]
  },
  {
   "cell_type": "code",
   "execution_count": 14,
   "metadata": {
    "execution": {
     "iopub.execute_input": "2021-04-02T02:32:59.711204Z",
     "iopub.status.busy": "2021-04-02T02:32:59.710614Z",
     "iopub.status.idle": "2021-04-02T02:32:59.712227Z",
     "shell.execute_reply": "2021-04-02T02:32:59.712625Z"
    },
    "id": "lnJn5SLA2ahP"
   },
   "outputs": [],
   "source": [
    "num_layers = 4\n",
    "d_model = 128\n",
    "dff = 512\n",
    "num_heads = 8\n",
    "dropout_rate = 0"
   ]
  },
  {
   "cell_type": "code",
   "execution_count": 15,
   "metadata": {},
   "outputs": [],
   "source": [
    "t_warmup_steps = 4000#4000"
   ]
  },
  {
   "cell_type": "code",
   "execution_count": 16,
   "metadata": {
    "execution": {
     "iopub.execute_input": "2021-04-02T02:32:59.719045Z",
     "iopub.status.busy": "2021-04-02T02:32:59.718425Z",
     "iopub.status.idle": "2021-04-02T02:32:59.720119Z",
     "shell.execute_reply": "2021-04-02T02:32:59.720526Z"
    },
    "id": "iYQdOO1axwEI"
   },
   "outputs": [],
   "source": [
    "class CustomSchedule(tf.keras.optimizers.schedules.LearningRateSchedule):\n",
    "    def __init__(self, d_model, warmup_steps=t_warmup_steps):#4000\n",
    "        super(CustomSchedule, self).__init__()\n",
    "\n",
    "        self.d_model = d_model\n",
    "        self.d_model = tf.cast(self.d_model, tf.float32)\n",
    "\n",
    "        self.warmup_steps = warmup_steps\n",
    "\n",
    "    def __call__(self, step):\n",
    "        arg1 = tf.math.rsqrt(step)\n",
    "        arg2 = step * (self.warmup_steps ** -1.5)\n",
    "\n",
    "        return tf.math.rsqrt(self.d_model) * tf.math.minimum(arg1, arg2)"
   ]
  },
  {
   "cell_type": "code",
   "execution_count": 17,
   "metadata": {
    "execution": {
     "iopub.execute_input": "2021-04-02T02:32:59.724285Z",
     "iopub.status.busy": "2021-04-02T02:32:59.723670Z",
     "iopub.status.idle": "2021-04-02T02:32:59.726235Z",
     "shell.execute_reply": "2021-04-02T02:32:59.726614Z"
    },
    "id": "7r4scdulztRx"
   },
   "outputs": [],
   "source": [
    "learning_rate = CustomSchedule(d_model)\n",
    "\n",
    "optimizer = tf.keras.optimizers.Adam(learning_rate, beta_1=0.9, beta_2=0.98,epsilon=1e-9)"
   ]
  },
  {
   "cell_type": "code",
   "execution_count": 18,
   "metadata": {
    "execution": {
     "iopub.execute_input": "2021-04-02T02:32:59.730814Z",
     "iopub.status.busy": "2021-04-02T02:32:59.730209Z",
     "iopub.status.idle": "2021-04-02T02:32:59.872618Z",
     "shell.execute_reply": "2021-04-02T02:32:59.871992Z"
    },
    "id": "f33ZCgvHpPdG"
   },
   "outputs": [
    {
     "data": {
      "text/plain": [
       "Text(0.5, 0, 'Train Step')"
      ]
     },
     "execution_count": 18,
     "metadata": {},
     "output_type": "execute_result"
    },
    {
     "data": {
      "image/png": "[encoded data removed]",
      "text/plain": [
       "<Figure size 432x288 with 1 Axes>"
      ]
     },
     "metadata": {
      "needs_background": "light"
     },
     "output_type": "display_data"
    }
   ],
   "source": [
    "temp_learning_rate_schedule = CustomSchedule(d_model)\n",
    "\n",
    "plt.plot(temp_learning_rate_schedule(tf.range(40000, dtype=tf.float32)))\n",
    "plt.ylabel(\"Learning Rate\")\n",
    "plt.xlabel(\"Train Step\")"
   ]
  },
  {
   "cell_type": "code",
   "execution_count": 19,
   "metadata": {},
   "outputs": [],
   "source": [
    "# print(temp_learning_rate_schedule(tf.range(40000, dtype=tf.float32)).numpy()[10])"
   ]
  },
  {
   "cell_type": "code",
   "execution_count": 20,
   "metadata": {},
   "outputs": [],
   "source": [
    "# import math\n",
    "# print(math.sqrt(d_model)*math.sqrt(4000))"
   ]
  },
  {
   "cell_type": "code",
   "execution_count": 21,
   "metadata": {
    "execution": {
     "iopub.execute_input": "2021-04-02T02:32:59.877232Z",
     "iopub.status.busy": "2021-04-02T02:32:59.876452Z",
     "iopub.status.idle": "2021-04-02T02:32:59.878693Z",
     "shell.execute_reply": "2021-04-02T02:32:59.878280Z"
    },
    "id": "MlhsJMm0TW_B"
   },
   "outputs": [],
   "source": [
    "loss_object = tf.keras.losses.SparseCategoricalCrossentropy(from_logits=True, reduction='none')"
   ]
  },
  {
   "cell_type": "code",
   "execution_count": 22,
   "metadata": {
    "execution": {
     "iopub.execute_input": "2021-04-02T02:32:59.885098Z",
     "iopub.status.busy": "2021-04-02T02:32:59.884379Z",
     "iopub.status.idle": "2021-04-02T02:32:59.886315Z",
     "shell.execute_reply": "2021-04-02T02:32:59.886703Z"
    },
    "id": "67oqVHiT0Eiu"
   },
   "outputs": [],
   "source": [
    "def loss_function(real, pred):\n",
    "    mask = tf.math.logical_not(tf.math.equal(real, 0))\n",
    "    loss_ = loss_object(real, pred)\n",
    "\n",
    "    mask = tf.cast(mask, dtype=loss_.dtype)\n",
    "    loss_ *= mask\n",
    "\n",
    "    return tf.reduce_sum(loss_)/tf.reduce_sum(mask)\n",
    "\n",
    "\n",
    "def accuracy_function(real, pred):\n",
    "    accuracies = tf.equal(real, tf.argmax(pred, axis=2))\n",
    "\n",
    "    mask = tf.math.logical_not(tf.math.equal(real, 0))\n",
    "    accuracies = tf.math.logical_and(mask, accuracies)\n",
    "\n",
    "    accuracies = tf.cast(accuracies, dtype=tf.float32)\n",
    "    mask = tf.cast(mask, dtype=tf.float32)\n",
    "    return tf.reduce_sum(accuracies)/tf.reduce_sum(mask)"
   ]
  },
  {
   "cell_type": "code",
   "execution_count": 23,
   "metadata": {
    "execution": {
     "iopub.execute_input": "2021-04-02T02:32:59.897336Z",
     "iopub.status.busy": "2021-04-02T02:32:59.896730Z",
     "iopub.status.idle": "2021-04-02T02:32:59.904570Z",
     "shell.execute_reply": "2021-04-02T02:32:59.905002Z"
    },
    "id": "phlyxMnm-Tpx"
   },
   "outputs": [],
   "source": [
    "train_loss = tf.keras.metrics.Mean(name='train_loss')\n",
    "train_accuracy = tf.keras.metrics.Mean(name='train_accuracy')"
   ]
  },
  {
   "cell_type": "code",
   "execution_count": 24,
   "metadata": {},
   "outputs": [
    {
     "name": "stdout",
     "output_type": "stream",
     "text": [
      "20 13\n",
      "24 24\n"
     ]
    }
   ],
   "source": [
    "dp_conf = [('ain',10),('aot',10),('m',10),('din',10),('dot',10)]\n",
    "# dp_conf = [('m',10)]\n",
    "# dp_val_range = 255\n",
    "dp_val_range = 256\n",
    "\n",
    "def getDpList():\n",
    "    l = []\n",
    "    for pair in dp_conf:\n",
    "        dp = pair[0]\n",
    "        num = pair[1]\n",
    "        for i in range(num):\n",
    "            l.append(dp+str(i))\n",
    "\n",
    "    return l\n",
    "\n",
    "def assignOperation(allDpList):\n",
    "    l = []\n",
    "    for dp in allDpList:\n",
    "        for num in range(dp_val_range):\n",
    "#             if num<100:\n",
    "#                 continue\n",
    "            num_str = str(num)\n",
    "            \n",
    "            x = \"assign \"+num_str +\" to \"+ dp\n",
    "            \n",
    "            if dp[0] == 'a':\n",
    "                num_str+='.0'\n",
    "                \n",
    "            y = dp +\"=\"+ num_str +\";\"\n",
    "#             print(y)\n",
    "            l.append([x,y])\n",
    "#             print([x,y])\n",
    "  \n",
    "    return l\n",
    "\n",
    "def test():\n",
    "    l = []\n",
    "    for num in range(10000):\n",
    "        x = list(str(num))\n",
    "        y = list(x)\n",
    "        y.reverse()\n",
    "        l.append([x,y])\n",
    "    return l\n",
    "\n",
    "def createDict(_li):\n",
    "    _max_len = len(max(_li, key=len))\n",
    "\n",
    "    _set = sorted(set(itertools.chain.from_iterable(_li)))\n",
    "\n",
    "    _set.remove('<START>')\n",
    "    _set.remove('<END>')\n",
    "    _li = list(_set)\n",
    "    _li = ['<PAD>','<UNK>','<START>','<END>'] + _li\n",
    "    \n",
    "    _dict = {_li[i]: i for i in range(len(_li))}\n",
    "    _dict_inv = {i: _li[i] for i in range(len(_li))}\n",
    "\n",
    "    return _max_len, _dict, _dict_inv\n",
    "    \n",
    "def createDataSet():\n",
    "    dp_list = getDpList()\n",
    "    \n",
    "    dataset = []\n",
    "\n",
    "    dataset += assignOperation(dp_list)\n",
    "#     dataset += test()\n",
    "    \n",
    "    for row in dataset:\n",
    "        x_li = ['<START>']\n",
    "        x_li = x_li + list(row[0])\n",
    "        x_li.append('<END>')\n",
    "        row[0] = x_li\n",
    "        \n",
    "        y_li = ['<START>']\n",
    "        y_li = y_li + list(row[1])\n",
    "        y_li.append('<END>')\n",
    "        row[1] = y_li\n",
    "\n",
    "#     test_dataset, human_vocab, machine_vocab, inv_machine_vocab = load_dataset(20000)\n",
    "#     dataset += test_dataset\n",
    "\n",
    "    X, Y = zip(*dataset)\n",
    "    \n",
    "    createDict(X)\n",
    "    \n",
    "    Tx, X_dict, X_dict_inv = createDict(X)\n",
    "    Ty, Y_dict, Y_dict_inv = createDict(Y)\n",
    "    \n",
    "    setting = {}\n",
    "    setting['Tx'] = Tx\n",
    "    setting['Ty'] = Ty\n",
    "    setting['X_dict'] = X_dict\n",
    "    setting['Y_dict'] = Y_dict\n",
    "    setting['X_dict_inv'] = X_dict_inv\n",
    "    setting['Y_dict_inv'] = Y_dict_inv\n",
    "    x_vocab_len = len(X_dict)\n",
    "    y_vocab_len = len(Y_dict)\n",
    "    setting['x_vocab_len'] = x_vocab_len\n",
    "    setting['y_vocab_len'] = y_vocab_len\n",
    "    \n",
    "    np.save(\"npy/setting.npy\", setting)\n",
    "    \n",
    "#     print(setting)\n",
    "    \n",
    "    encoded_x = [[X_dict[j] for j in i] for i in X]\n",
    "    encoded_y = [[Y_dict[j] for j in i] for i in Y]\n",
    "    \n",
    "    padded_x = pad_sequences(encoded_x, padding=\"post\")\n",
    "    padded_y = pad_sequences(encoded_y, padding=\"post\")\n",
    "\n",
    "\n",
    "    shuffled_xLabel, shuffled_yLabel = shuffle(padded_x, padded_y, random_state=seed_value) #0\n",
    "#     shuffled_xLabel = padded_x\n",
    "#     shuffled_yLabel = padded_y\n",
    "\n",
    "    train_XLabel, test_XLabel = np.split(shuffled_xLabel, [int(len(shuffled_xLabel)*0.9)])\n",
    "    train_YLabel, test_YLabel = np.split(shuffled_yLabel, [int(len(shuffled_yLabel)*0.9)])\n",
    "    \n",
    "    np.save('npy/train_XLabel.npy', train_XLabel)\n",
    "    np.save('npy/test_XLabel.npy', test_XLabel)\n",
    "    np.save('npy/train_YLabel.npy', train_YLabel)\n",
    "    np.save('npy/test_YLabel.npy', test_YLabel)\n",
    "    \n",
    "def loadDataSet():\n",
    "    setting = np.load('npy/setting.npy',allow_pickle='TRUE').item()\n",
    "    \n",
    "    train_XLabel = np.load('npy/train_XLabel.npy')\n",
    "    test_XLabel = np.load('npy/test_XLabel.npy')\n",
    "    train_YLabel = np.load('npy/train_YLabel.npy')\n",
    "    test_YLabel = np.load('npy/test_YLabel.npy')\n",
    "    \n",
    "    return setting, train_XLabel, test_XLabel, train_YLabel, test_YLabel\n",
    "\n",
    "# createDataSet()\n",
    "setting, train_XLabel, test_XLabel, train_YLabel, test_YLabel = loadDataSet()\n",
    "\n",
    "Tx = setting['Tx']\n",
    "Ty = setting['Ty']\n",
    "X_dict = setting['X_dict']\n",
    "Y_dict = setting['Y_dict']\n",
    "X_dict_inv = setting['X_dict_inv']\n",
    "Y_dict_inv = setting['Y_dict_inv']\n",
    "x_vocab_len = setting['x_vocab_len']\n",
    "y_vocab_len = setting['y_vocab_len']\n",
    "\n",
    "print(Tx, Ty)\n",
    "# print(X_dict)\n",
    "# print(Y_dict)\n",
    "# print(X_dict_inv)\n",
    "# print(Y_dict_inv)\n",
    "print(x_vocab_len, y_vocab_len)"
   ]
  },
  {
   "cell_type": "code",
   "execution_count": 25,
   "metadata": {
    "execution": {
     "iopub.execute_input": "2021-04-02T02:32:59.911308Z",
     "iopub.status.busy": "2021-04-02T02:32:59.910613Z",
     "iopub.status.idle": "2021-04-02T02:33:00.021368Z",
     "shell.execute_reply": "2021-04-02T02:33:00.020843Z"
    },
    "id": "UiysUa--4tOU"
   },
   "outputs": [],
   "source": [
    "transformer = Transformer(\n",
    "    num_layers=num_layers,\n",
    "    d_model=d_model,\n",
    "    num_heads=num_heads,\n",
    "    dff=dff,\n",
    "    input_vocab_size=x_vocab_len,#tokenizers.pt.get_vocab_size(),\n",
    "    target_vocab_size=y_vocab_len,#tokenizers.en.get_vocab_size(),\n",
    "    pe_input=Tx,#1000\n",
    "    pe_target=Ty,#1000\n",
    "    rate=dropout_rate)"
   ]
  },
  {
   "cell_type": "code",
   "execution_count": 26,
   "metadata": {
    "execution": {
     "iopub.execute_input": "2021-04-02T02:33:00.027040Z",
     "iopub.status.busy": "2021-04-02T02:33:00.026287Z",
     "iopub.status.idle": "2021-04-02T02:33:00.028528Z",
     "shell.execute_reply": "2021-04-02T02:33:00.028080Z"
    },
    "id": "ZOJUSB1T8GjM"
   },
   "outputs": [],
   "source": [
    "def create_masks(inp, tar):\n",
    "    # Encoder padding mask\n",
    "    enc_padding_mask = create_padding_mask(inp)\n",
    "\n",
    "    # Used in the 2nd attention block in the decoder.\n",
    "    # This padding mask is used to mask the encoder outputs.\n",
    "    dec_padding_mask = create_padding_mask(inp)\n",
    "\n",
    "    # Used in the 1st attention block in the decoder.\n",
    "    # It is used to pad and mask future tokens in the input received by\n",
    "    # the decoder.\n",
    "    look_ahead_mask = create_look_ahead_mask(tf.shape(tar)[1])\n",
    "    dec_target_padding_mask = create_padding_mask(tar)\n",
    "    combined_mask = tf.maximum(dec_target_padding_mask, look_ahead_mask)\n",
    "\n",
    "    return enc_padding_mask, combined_mask, dec_padding_mask"
   ]
  },
  {
   "cell_type": "code",
   "execution_count": 27,
   "metadata": {
    "execution": {
     "iopub.execute_input": "2021-04-02T02:33:00.033637Z",
     "iopub.status.busy": "2021-04-02T02:33:00.032935Z",
     "iopub.status.idle": "2021-04-02T02:33:00.035512Z",
     "shell.execute_reply": "2021-04-02T02:33:00.035003Z"
    },
    "id": "hNhuYfllndLZ"
   },
   "outputs": [],
   "source": [
    "# checkpoint_path = \"./checkpoints/att_map\"\n",
    "\n",
    "# ckpt = tf.train.Checkpoint(transformer=transformer,optimizer=optimizer)\n",
    "\n",
    "# ckpt_manager = tf.train.CheckpointManager(ckpt, checkpoint_path, max_to_keep=5)\n",
    "\n",
    "# # if a checkpoint exists, restore the latest checkpoint.\n",
    "# if ckpt_manager.latest_checkpoint:\n",
    "#   ckpt.restore(ckpt_manager.latest_checkpoint)\n",
    "#   print('Latest checkpoint restored!!')\n",
    "# # ckpt_manager.save()"
   ]
  },
  {
   "cell_type": "code",
   "execution_count": 28,
   "metadata": {},
   "outputs": [],
   "source": [
    "def evaluate(sentence, max_length=Ty):\n",
    "    encoder_input = tf.constant([[X_dict['<START>']]+[X_dict[j] for j in sentence]],dtype=\"int64\")\n",
    "    output = tf.constant([[2]],dtype=\"int64\")\n",
    "    end = tf.constant([[3]],dtype=\"int64\")\n",
    "\n",
    "    for i in range(max_length):\n",
    "        enc_padding_mask, combined_mask, dec_padding_mask = create_masks(encoder_input, output)\n",
    "\n",
    "        predictions, attention_weights = transformer(encoder_input,output,False,\n",
    "                                             enc_padding_mask,\n",
    "                                             combined_mask,\n",
    "                                             dec_padding_mask)\n",
    "\n",
    "        # select the last word from the seq_len dimension\n",
    "        predictions = predictions[:, -1:, :]  # (batch_size, 1, vocab_size)\n",
    "\n",
    "        predicted_id = tf.argmax(predictions, axis=-1)\n",
    "\n",
    "        # concatentate the predicted_id to the output which is given to the decoder\n",
    "        # as its input.\n",
    "        output = tf.concat([output, predicted_id], axis=-1)\n",
    "\n",
    "        # return the result if the predicted_id is equal to the end token\n",
    "        if predicted_id == end:\n",
    "            break\n",
    "    \n",
    "    text = [Y_dict_inv[j] for j in output.numpy()[0]]\n",
    "    tokens = text\n",
    "    tokens = tf.constant([tokens])\n",
    "\n",
    "    text = list(filter(lambda x: x != '<END>' , text))\n",
    "    text = list(filter(lambda x: x != '<START>' , text))\n",
    "\n",
    "    text = ''.join(text)\n",
    "\n",
    "    return text, tokens, attention_weights"
   ]
  },
  {
   "cell_type": "code",
   "execution_count": 45,
   "metadata": {},
   "outputs": [],
   "source": [
    "def plot_attention_map(file_name = None):\n",
    "    sentence = \"assign 253 to aot8\"\n",
    "    input_text = list(sentence)\n",
    "    translated_text, translated_tokens, attention_weights = evaluate(sentence)\n",
    "\n",
    "    output_text = list(translated_text)\n",
    "\n",
    "    head = 0\n",
    "    # shape: (batch=1, num_heads, seq_len_q, seq_len_k)\n",
    "    attention_heads = tf.squeeze(attention_weights['decoder_layer4_block2'], 0)\n",
    "    \n",
    "    li = []\n",
    "\n",
    "    for h, head in enumerate(attention_heads):\n",
    "        head = np.delete(head, -1, 0)\n",
    "        head = np.delete(head, 0, 1)\n",
    "        li.append(head)\n",
    "    \n",
    "#     li_c = li[0] + li[1] + li[2] + li[3] + li[4] + li[5] + li[6] + li[7]\n",
    "#     li_c = li_c/8\n",
    "\n",
    "    comp = li[2]\n",
    "    comp[8] = li[0][8]\n",
    "    comp[9] = li[0][9]\n",
    "\n",
    "\n",
    "    \n",
    "\n",
    "        \n",
    "#     attention = attention_heads[head]\n",
    "    \n",
    "\n",
    "    \n",
    "#     attention = np.delete(attention, -1, 0)\n",
    "#     attention = np.delete(attention, 0, 1)\n",
    "    \n",
    "\n",
    "    \n",
    "    fig = plt.figure(figsize=(5,4))\n",
    "    ax = fig.add_subplot(1, 1, 1)\n",
    "    \n",
    "    axData = ax.imshow(comp, cmap=\"viridis\")\n",
    "#     axData = ax.imshow(li_c, cmap=\"Greens\")\n",
    "    colorBar = fig.colorbar(axData, orientation='horizontal',shrink=0.9)\n",
    "    colorBar.ax.set_xlabel('$Attention\\;weights$', labelpad=2)\n",
    "    \n",
    "    title = \"$epoch:\"+\"90\"+\"\\;batch:\"+\"0\"+\"$\"\n",
    "\n",
    "    ax.set_title(title)\n",
    "    \n",
    "    ax.set_xticks(range(len(input_text)))\n",
    "    ax.set_xticklabels(input_text, rotation=0)\n",
    "\n",
    "    ax.set_yticks(range(len(output_text)))\n",
    "    ax.set_yticklabels(output_text)\n",
    "\n",
    "    ax.set_xlabel('$Input\\;Sequence$')\n",
    "    ax.set_ylabel('$Output\\;Sequence$')\n",
    "    \n",
    "    ax.grid()\n",
    "    \n",
    "    if file_name:\n",
    "        plt.savefig(file_name, dpi=300)\n",
    "        plt.close(fig)\n",
    "    \n",
    "#     return fig\n",
    "\n",
    "# plot_attention_map()"
   ]
  },
  {
   "cell_type": "code",
   "execution_count": 30,
   "metadata": {},
   "outputs": [],
   "source": [
    "def plot_one_attention_head(input_text,output_text,attention):\n",
    "    attention = np.delete(attention, -1, 0)\n",
    "    attention = np.delete(attention, 0, 1)\n",
    "    \n",
    "    ax = plt.gca()\n",
    "    ax.imshow(attention)\n",
    "\n",
    "    ax.set_xticks(range(len(input_text)))\n",
    "    ax.set_yticks(range(len(output_text)))\n",
    "\n",
    "\n",
    "    ax.set_xticklabels(input_text)\n",
    "    ax.set_yticklabels(output_text)\n",
    "    ax.grid()"
   ]
  },
  {
   "cell_type": "code",
   "execution_count": 31,
   "metadata": {
    "scrolled": false
   },
   "outputs": [],
   "source": [
    "def plot_all_attention_head(file_name = None):\n",
    "    sentence = \"assign 253 to aot8\"\n",
    "    input_text = list(sentence)\n",
    "    translated_text, translated_tokens, attention_weights = evaluate(sentence)\n",
    "    output_text = list(translated_text)\n",
    "    \n",
    "    \n",
    "    \n",
    "    attention_heads = tf.squeeze(attention_weights['decoder_layer4_block2'], 0)\n",
    "\n",
    "    \n",
    "    fig = plt.figure(figsize=(16, 6))\n",
    "    \n",
    "    for h, head in enumerate(attention_heads):\n",
    "        ax = fig.add_subplot(2, 4, h+1)\n",
    "\n",
    "        plot_one_attention_head(input_text, output_text, head)\n",
    "\n",
    "        ax.set_title(f'Head {h+1}')\n",
    "\n",
    "    plt.tight_layout()\n",
    "#     plt.show()\n",
    "    \n",
    "    if file_name:\n",
    "        plt.savefig(file_name, dpi=300)\n",
    "        plt.close(fig)\n",
    "    else:\n",
    "        plt.show()\n",
    "# plot_all_attention_head()"
   ]
  },
  {
   "cell_type": "code",
   "execution_count": 32,
   "metadata": {},
   "outputs": [],
   "source": [
    "def saveAttData(epoch,batch):\n",
    "    sentence = \"assign 253 to aot8\"\n",
    "    input_text = list(sentence)\n",
    "    translated_text, translated_tokens, attention_weights = evaluate(sentence)\n",
    "    output_text = list(translated_text)\n",
    "    name = str(epoch).zfill(5)+\"_\"+str(batch).zfill(5)\n",
    "    np.save(\"att_data/npy_att/\"+name+\".npy\", attention_weights)\n",
    "    np.save(\"att_data/npy_outtext/\"+name+\".npy\", output_text)"
   ]
  },
  {
   "cell_type": "code",
   "execution_count": 33,
   "metadata": {},
   "outputs": [],
   "source": [
    "batch_size = 32#16#32#10#16\n",
    "train_XLabel_chunks = [train_XLabel[x:x+batch_size] for x in range(0, len(train_XLabel), batch_size)]\n",
    "train_YLabel_chunks = [train_YLabel[x:x+batch_size] for x in range(0, len(train_YLabel), batch_size)]"
   ]
  },
  {
   "cell_type": "code",
   "execution_count": 34,
   "metadata": {
    "execution": {
     "iopub.execute_input": "2021-04-02T02:33:00.039471Z",
     "iopub.status.busy": "2021-04-02T02:33:00.038817Z",
     "iopub.status.idle": "2021-04-02T02:33:00.040840Z",
     "shell.execute_reply": "2021-04-02T02:33:00.041343Z"
    },
    "id": "LKpoA6q1sJFj"
   },
   "outputs": [],
   "source": [
    "EPOCHS = 30"
   ]
  },
  {
   "cell_type": "code",
   "execution_count": 35,
   "metadata": {
    "execution": {
     "iopub.execute_input": "2021-04-02T02:33:00.048339Z",
     "iopub.status.busy": "2021-04-02T02:33:00.047600Z",
     "iopub.status.idle": "2021-04-02T02:33:00.049531Z",
     "shell.execute_reply": "2021-04-02T02:33:00.049885Z"
    },
    "id": "iJwmp9OE29oj"
   },
   "outputs": [],
   "source": [
    "# The @tf.function trace-compiles train_step into a TF graph for faster\n",
    "# execution. The function specializes to the precise shape of the argument\n",
    "# tensors. To avoid re-tracing due to the variable sequence lengths or variable\n",
    "# batch sizes (the last batch is smaller), use input_signature to specify\n",
    "# more generic shapes.\n",
    "\n",
    "train_step_signature = [\n",
    "    tf.TensorSpec(shape=(None, None), dtype=tf.int64),\n",
    "    tf.TensorSpec(shape=(None, None), dtype=tf.int64),\n",
    "]\n",
    "\n",
    "\n",
    "@tf.function(input_signature=train_step_signature)\n",
    "def train_step(inp, tar):\n",
    "    tar_inp = tar[:, :-1]\n",
    "    tar_real = tar[:, 1:]\n",
    "\n",
    "    enc_padding_mask, combined_mask, dec_padding_mask = create_masks(inp, tar_inp)\n",
    "\n",
    "    with tf.GradientTape() as tape:\n",
    "        predictions, _ = transformer(inp, tar_inp,True,enc_padding_mask,combined_mask,dec_padding_mask)\n",
    "        loss = loss_function(tar_real, predictions)\n",
    "\n",
    "    gradients = tape.gradient(loss, transformer.trainable_variables)\n",
    "    optimizer.apply_gradients(zip(gradients, transformer.trainable_variables))\n",
    "\n",
    "    train_loss(loss)\n",
    "    train_accuracy(accuracy_function(tar_real, predictions))"
   ]
  },
  {
   "cell_type": "code",
   "execution_count": 36,
   "metadata": {},
   "outputs": [],
   "source": [
    "ten = 0"
   ]
  },
  {
   "cell_type": "code",
   "execution_count": 37,
   "metadata": {
    "execution": {
     "iopub.execute_input": "2021-04-02T02:33:00.055295Z",
     "iopub.status.busy": "2021-04-02T02:33:00.054675Z",
     "iopub.status.idle": "2021-04-02T02:50:06.931066Z",
     "shell.execute_reply": "2021-04-02T02:50:06.930397Z"
    },
    "id": "bbvmaKNiznHZ",
    "scrolled": true
   },
   "outputs": [
    {
     "name": "stdout",
     "output_type": "stream",
     "text": [
      "Epoch 0 Loss 1.3051334619522095 Accuracy 0.6306353807449341\n",
      "Time taken for 1 epoch: 26.28 secs\n",
      "\n",
      "Epoch 1 Loss 0.1198729276657104 Accuracy 0.9641000628471375\n",
      "Time taken for 1 epoch: 13.30 secs\n",
      "\n",
      "Epoch 2 Loss 0.0210913922637701 Accuracy 0.9950691461563110\n",
      "Time taken for 1 epoch: 13.74 secs\n",
      "\n",
      "Epoch 3 Loss 0.0055547920055687 Accuracy 0.9987143874168396\n",
      "Time taken for 1 epoch: 14.18 secs\n",
      "\n",
      "Epoch 4 Loss 0.0000110497840069 Accuracy 1.0000000000000000\n",
      "Time taken for 1 epoch: 14.24 secs\n",
      "\n",
      "Epoch 5 Loss 0.0000005607513458 Accuracy 1.0000000000000000\n",
      "Time taken for 1 epoch: 14.15 secs\n",
      "\n",
      "Epoch 6 Loss 0.0848685652017593 Accuracy 0.9823902845382690\n",
      "Time taken for 1 epoch: 14.24 secs\n",
      "\n",
      "Epoch 7 Loss 0.0246072262525558 Accuracy 0.9939517378807068\n",
      "Time taken for 1 epoch: 14.42 secs\n",
      "\n",
      "Epoch 8 Loss 0.0215125959366560 Accuracy 0.9952679872512817\n",
      "Time taken for 1 epoch: 14.25 secs\n",
      "\n",
      "Epoch 9 Loss 0.0423348098993301 Accuracy 0.9915018677711487\n",
      "Time taken for 1 epoch: 14.09 secs\n",
      "\n",
      "Epoch 10 Loss 0.0509577654302120 Accuracy 0.9882485270500183\n",
      "Time taken for 1 epoch: 14.24 secs\n",
      "\n",
      "Epoch 11 Loss 0.0000157008562383 Accuracy 1.0000000000000000\n",
      "Time taken for 1 epoch: 14.08 secs\n",
      "\n",
      "Epoch 12 Loss 0.0000006608692047 Accuracy 1.0000000000000000\n",
      "Time taken for 1 epoch: 14.31 secs\n",
      "\n",
      "Epoch 13 Loss 0.0000000308482200 Accuracy 1.0000000000000000\n",
      "Time taken for 1 epoch: 14.34 secs\n",
      "\n",
      "Epoch 14 Loss 0.0000000294089908 Accuracy 1.0000000000000000\n",
      "Time taken for 1 epoch: 14.24 secs\n",
      "\n",
      "Epoch 15 Loss 0.0000000313291046 Accuracy 1.0000000000000000\n",
      "Time taken for 1 epoch: 14.16 secs\n",
      "\n",
      "Epoch 16 Loss 0.0000000303389029 Accuracy 1.0000000000000000\n",
      "Time taken for 1 epoch: 14.08 secs\n",
      "\n",
      "Epoch 17 Loss 0.0000000289540587 Accuracy 1.0000000000000000\n",
      "Time taken for 1 epoch: 14.22 secs\n",
      "\n",
      "Epoch 18 Loss 0.0000000248839473 Accuracy 1.0000000000000000\n",
      "Time taken for 1 epoch: 14.08 secs\n",
      "\n",
      "Epoch 19 Loss 0.0275458991527557 Accuracy 0.9954580664634705\n",
      "Time taken for 1 epoch: 14.17 secs\n",
      "\n",
      "Epoch 20 Loss 0.0466866493225098 Accuracy 0.9914544820785522\n",
      "Time taken for 1 epoch: 14.07 secs\n",
      "\n",
      "Epoch 21 Loss 0.0048869810998440 Accuracy 0.9988296627998352\n",
      "Time taken for 1 epoch: 14.11 secs\n",
      "\n",
      "Epoch 22 Loss 0.0000003482944635 Accuracy 1.0000000000000000\n",
      "Time taken for 1 epoch: 14.20 secs\n",
      "\n",
      "Epoch 23 Loss 0.0000000143754830 Accuracy 1.0000000000000000\n",
      "Time taken for 1 epoch: 14.14 secs\n",
      "\n",
      "Epoch 24 Loss 0.0000000244915714 Accuracy 1.0000000000000000\n",
      "Time taken for 1 epoch: 14.13 secs\n",
      "\n",
      "Epoch 25 Loss 0.0000000264102908 Accuracy 1.0000000000000000\n",
      "Time taken for 1 epoch: 14.20 secs\n",
      "\n",
      "Epoch 26 Loss 0.0000000268703513 Accuracy 1.0000000000000000\n",
      "Time taken for 1 epoch: 14.20 secs\n",
      "\n",
      "Epoch 27 Loss 0.0000000203641424 Accuracy 1.0000000000000000\n",
      "Time taken for 1 epoch: 14.25 secs\n",
      "\n",
      "Epoch 28 Loss 0.0000000232496280 Accuracy 1.0000000000000000\n",
      "Time taken for 1 epoch: 14.30 secs\n",
      "\n",
      "Epoch 29 Loss 0.0000000252040664 Accuracy 1.0000000000000000\n",
      "Time taken for 1 epoch: 13.95 secs\n",
      "\n",
      "0\n"
     ]
    }
   ],
   "source": [
    "# for i in range(2):\n",
    "for epoch in range(EPOCHS):\n",
    "    start = time.time()\n",
    "    train_loss.reset_states()\n",
    "    train_accuracy.reset_states()\n",
    "\n",
    "#     batc = 0\n",
    "    for train_x, train_y in zip(train_XLabel_chunks, train_YLabel_chunks):\n",
    "        train_step(tf.constant(train_x,dtype=\"int64\"), tf.constant(train_y,dtype=\"int64\"))\n",
    "#         saveAttData(epoch+ten*EPOCHS,batc)\n",
    "#         batc +=1\n",
    "#     plot_attention_map('attentionMap/'+str(epoch+ten*EPOCHS).zfill(4)+'_'+str(0).zfill(4)+'.png')\n",
    "#     plot_all_attention_head('attentionMap/'+str(epoch+ten*EPOCHS).zfill(4)+'_'+str(0).zfill(4)+'.png')\n",
    "\n",
    "    print(f'Epoch {epoch} Loss {train_loss.result():.16f} Accuracy {train_accuracy.result():.16f}')\n",
    "    print(f'Time taken for 1 epoch: {time.time() - start:.2f} secs\\n')\n",
    "\n",
    "print(ten)\n",
    "ten += 1"
   ]
  },
  {
   "cell_type": "code",
   "execution_count": 38,
   "metadata": {},
   "outputs": [],
   "source": [
    "# plot_all_attention_head('attentionMap/'+'_d_'+str(dropout_rate)+'_w_'+str(t_warmup_steps)+'_b_'+str(batch_size)+'_e_'+str(85)+'.png')"
   ]
  },
  {
   "cell_type": "code",
   "execution_count": 39,
   "metadata": {},
   "outputs": [
    {
     "data": {
      "image/png": "[encoded data removed]",
      "text/plain": [
       "<Figure size 360x288 with 2 Axes>"
      ]
     },
     "metadata": {
      "needs_background": "light"
     },
     "output_type": "display_data"
    }
   ],
   "source": [
    "plot_attention_map()"
   ]
  },
  {
   "cell_type": "code",
   "execution_count": 40,
   "metadata": {},
   "outputs": [],
   "source": [
    "# plot_all_attention_head()"
   ]
  },
  {
   "cell_type": "code",
   "execution_count": 41,
   "metadata": {},
   "outputs": [],
   "source": [
    "# plot_all_attention_head()"
   ]
  },
  {
   "cell_type": "code",
   "execution_count": 42,
   "metadata": {},
   "outputs": [],
   "source": [
    "def plot_attention_map_from_file(epoch,batch):\n",
    "    sentence = \"assign 253 to aot8\"\n",
    "    input_text = list(sentence)\n",
    "    \n",
    "    name = str(epoch).zfill(5)+\"_\"+str(batch).zfill(5)\n",
    "#         setting = np.load('npy/setting.npy',allow_pickle='TRUE').item()\n",
    "        \n",
    "    attention_weights = np.load(\"att_data/npy_att/\"+name+\".npy\",allow_pickle='TRUE').item()\n",
    "    output_text = np.load(\"att_data/npy_outtext/\"+name+\".npy\")\n",
    "#     print(output_text)\n",
    "    \n",
    "    if ''.join(output_text) != \"aot8=253.0;\":\n",
    "        return\n",
    "    \n",
    "#     if batch%10 != 0:\n",
    "#         return\n",
    "    \n",
    "#     input_text = list(sentence)\n",
    "#     translated_text, translated_tokens, attention_weights = evaluate(sentence)\n",
    "#     output_text = list(translated_text)\n",
    "\n",
    "    head = 0\n",
    "    # shape: (batch=1, num_heads, seq_len_q, seq_len_k)\n",
    "    attention_heads = tf.squeeze(\n",
    "      attention_weights['decoder_layer4_block2'], 0)\n",
    "    attention = attention_heads[head]\n",
    "    \n",
    "    attention = np.delete(attention, -1, 0)\n",
    "    attention = np.delete(attention, 0, 1)\n",
    "    \n",
    "    fig = plt.figure(figsize=(5,4))\n",
    "    ax = fig.add_subplot(1, 1, 1)\n",
    "    \n",
    "    axData = ax.imshow(attention, cmap=\"viridis\")\n",
    "    colorBar = fig.colorbar(axData, orientation='horizontal',shrink=0.9)\n",
    "    colorBar.ax.set_xlabel('$Attention\\;weights$', labelpad=2)\n",
    "    \n",
    "    title = \"$epoch:\"+\"90\"+\"\\;batch:\"+\"0\"+\"$\"\n",
    "\n",
    "    ax.set_title(title)\n",
    "    \n",
    "    ax.set_xticks(range(len(input_text)))\n",
    "    ax.set_xticklabels(input_text, rotation=0)\n",
    "\n",
    "    ax.set_yticks(range(len(output_text)))\n",
    "    ax.set_yticklabels(output_text)\n",
    "\n",
    "    ax.set_xlabel('$Input\\;Sequence$')\n",
    "    ax.set_ylabel('$Output\\;Sequence$')\n",
    "    \n",
    "    ax.grid()\n",
    "    \n",
    "#     if file_name:\n",
    "    plt.savefig('attentionMap/'+name+'.png', dpi=300)\n",
    "    plt.close(fig)\n",
    "# plot_attention_map_from_file(88,115)"
   ]
  },
  {
   "cell_type": "code",
   "execution_count": 43,
   "metadata": {},
   "outputs": [],
   "source": [
    "# for i in range(30):\n",
    "#     if i<16 or i>17:\n",
    "#         continue\n",
    "#     for j in range(720):\n",
    "#         if j%10 ==0:\n",
    "#             plot_attention_map_from_file(i,j)\n",
    "    "
   ]
  },
  {
   "cell_type": "code",
   "execution_count": 44,
   "metadata": {},
   "outputs": [],
   "source": [
    "# plot_attention_map_from_file(0,10)"
   ]
  },
  {
   "cell_type": "code",
   "execution_count": null,
   "metadata": {},
   "outputs": [],
   "source": []
  }
 ],
 "metadata": {
  "accelerator": "GPU",
  "colab": {
   "collapsed_sections": [],
   "name": "transformer.ipynb",
   "toc_visible": true
  },
  "kernelspec": {
   "display_name": "Python 3",
   "language": "python",
   "name": "python3"
  },
  "language_info": {
   "codemirror_mode": {
    "name": "ipython",
    "version": 3
   },
   "file_extension": ".py",
   "mimetype": "text/x-python",
   "name": "python",
   "nbconvert_exporter": "python",
   "pygments_lexer": "ipython3",
   "version": "3.6.13"
  }
 },
 "nbformat": 4,
 "nbformat_minor": 1
}
