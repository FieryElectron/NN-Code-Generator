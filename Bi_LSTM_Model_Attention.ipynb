{
 "cells": [
  {
   "cell_type": "code",
   "execution_count": 1,
   "id": "sharing-necessity",
   "metadata": {},
   "outputs": [],
   "source": [
    "seed_value= 0\n",
    "\n",
    "import os\n",
    "# os.environ['CUDA_VISIBLE_DEVICES'] = '-1'\n",
    "os.environ['PYTHONHASHSEED']=str(seed_value)\n",
    "\n",
    "import random\n",
    "random.seed(seed_value)\n",
    "\n",
    "import numpy as np\n",
    "np.random.seed(seed_value)\n",
    "\n",
    "import tensorflow as tf\n",
    "tf.random.set_seed(seed_value)\n",
    "\n",
    "from sklearn.preprocessing import LabelEncoder\n",
    "from sklearn.utils import shuffle\n",
    "\n",
    "from tensorflow.keras.utils import to_categorical\n",
    "import tensorflow.keras.backend as K\n",
    "import matplotlib.pyplot as plt\n",
    "\n",
    "import logging\n",
    "logging.getLogger('tensorflow').setLevel(logging.ERROR)  # suppress warnings"
   ]
  },
  {
   "cell_type": "code",
   "execution_count": 2,
   "id": "determined-heather",
   "metadata": {},
   "outputs": [],
   "source": [
    "from tensorflow import keras\n",
    "from tensorflow.keras import layers, Sequential\n",
    "from tensorflow.keras.preprocessing.sequence import pad_sequences\n",
    "from tensorflow.keras.layers import Bidirectional, Concatenate, Dot, Input, LSTM, TimeDistributed, SimpleRNN, Reshape\n",
    "from tensorflow.keras.layers import RepeatVector, Dense, Activation, Lambda\n",
    "from tensorflow.keras.optimizers import Adam\n",
    "from tensorflow.keras.utils import to_categorical\n",
    "from tensorflow.keras.models import load_model, Model\n",
    "from tensorflow.keras.utils import plot_model"
   ]
  },
  {
   "cell_type": "code",
   "execution_count": 3,
   "id": "above-loading",
   "metadata": {},
   "outputs": [],
   "source": [
    "def softmax(x, axis=1):\n",
    "    \"\"\"Softmax activation function.\n",
    "    # Arguments\n",
    "        x : Tensor.\n",
    "        axis: Integer, axis along which the softmax normalization is applied.\n",
    "    # Returns\n",
    "        Tensor, output of softmax transformation.\n",
    "    # Raises\n",
    "        ValueError: In case `dim(x) == 1`.\n",
    "    \"\"\"\n",
    "    ndim = K.ndim(x)\n",
    "    if ndim == 2:\n",
    "        return K.softmax(x)\n",
    "    elif ndim > 2:\n",
    "        e = K.exp(x - K.max(x, axis=axis, keepdims=True))\n",
    "        s = K.sum(e, axis=axis, keepdims=True)\n",
    "        return e / s\n",
    "    else:\n",
    "        raise ValueError('Cannot apply softmax to a tensor that is 1D')"
   ]
  },
  {
   "cell_type": "code",
   "execution_count": 4,
   "id": "roman-instruction",
   "metadata": {},
   "outputs": [
    {
     "name": "stdout",
     "output_type": "stream",
     "text": [
      "18 11\n",
      "21 21\n",
      "\n"
     ]
    },
    {
     "data": {
      "text/plain": [
       "11520"
      ]
     },
     "execution_count": 4,
     "metadata": {},
     "output_type": "execute_result"
    }
   ],
   "source": [
    "dp_conf = [('ain',10),('aot',10),('m',10),('din',10),('dot',10)]\n",
    "# dp_conf = [('ain',100)]\n",
    "dp_val_range = 256\n",
    "\n",
    "def getDpList():\n",
    "    l = []\n",
    "    for pair in dp_conf:\n",
    "        dp = pair[0]\n",
    "        num = pair[1]\n",
    "        for i in range(num):\n",
    "            l.append(dp+str(i))\n",
    "\n",
    "    return l\n",
    "\n",
    "def assignOperation(allDpList):\n",
    "    l = []\n",
    "    for dp in allDpList:\n",
    "        for num in range(dp_val_range):\n",
    "            num_str = str(num)\n",
    "            \n",
    "            x = \"assign \"+num_str +\" to \"+ dp\n",
    "            \n",
    "            if dp[0] == 'a':\n",
    "                num_str+='.0'\n",
    "                \n",
    "            y = dp +\"=\"+ num_str +\";\"\n",
    "            l.append([x,y])\n",
    "#             print([x,y])\n",
    "  \n",
    "    return l\n",
    "\n",
    "def createDict(_li):\n",
    "    _max_len = len(max(_li, key=len))\n",
    "    \n",
    "    sorted_li = sorted(list(set(''.join(_li))))\n",
    "    sorted_li = ['<pad>'] + sorted_li\n",
    "\n",
    "#     print(sorted_li)\n",
    "    \n",
    "    _dict = {sorted_li[i]: i for i in range(len(sorted_li))}\n",
    "    _dict_inv = {i: sorted_li[i] for i in range(len(sorted_li))}    \n",
    "    \n",
    "    return _max_len, _dict, _dict_inv\n",
    "    \n",
    "def MaskingOneHot(oneHot):\n",
    "    for record in oneHot:\n",
    "        for feature in record:\n",
    "            if(feature[0]) == 1.0:\n",
    "                feature[0] = 0.0\n",
    "#             print(feature[0])\n",
    "    \n",
    "#     print(oneHot)\n",
    "    return oneHot\n",
    "\n",
    "def createDataSet():\n",
    "    dp_list = getDpList()\n",
    "    \n",
    "    dataset = []\n",
    "\n",
    "    dataset += assignOperation(dp_list)\n",
    "    \n",
    "#     test_dataset, human_vocab, machine_vocab, inv_machine_vocab = load_dataset(20000)\n",
    "#     dataset += test_dataset\n",
    "\n",
    "    X, Y = zip(*dataset)\n",
    "    \n",
    "    Tx, X_dict, X_dict_inv = createDict(X)\n",
    "    Ty, Y_dict, Y_dict_inv = createDict(Y)\n",
    "    \n",
    "    setting = {}\n",
    "    setting['Tx'] = Tx\n",
    "    setting['Ty'] = Ty\n",
    "    setting['X_dict'] = X_dict\n",
    "    setting['Y_dict'] = Y_dict\n",
    "    setting['X_dict_inv'] = X_dict_inv\n",
    "    setting['Y_dict_inv'] = Y_dict_inv\n",
    "    x_vocab_len = len(X_dict)\n",
    "    y_vocab_len = len(Y_dict)\n",
    "    setting['x_vocab_len'] = x_vocab_len\n",
    "    setting['y_vocab_len'] = y_vocab_len\n",
    "    \n",
    "    np.save(\"npy/setting.npy\", setting)\n",
    "    \n",
    "    encoded_x = [[X_dict[j] for j in i] for i in X]\n",
    "    encoded_y = [[Y_dict[j] for j in i] for i in Y]\n",
    "\n",
    "    padded_x = pad_sequences(encoded_x, padding=\"post\")\n",
    "    padded_y = pad_sequences(encoded_y, padding=\"post\")\n",
    "    \n",
    "    Xoh = np.array(list(map(lambda x: to_categorical(x, num_classes=x_vocab_len), padded_x)))\n",
    "    Yoh = np.array(list(map(lambda y: to_categorical(y, num_classes=y_vocab_len), padded_y)))\n",
    "#     Xoh = MaskingOneHot(Xoh)\n",
    "#     Yoh = MaskingOneHot(Yoh)\n",
    "\n",
    "    shuffled_Xoh, shuffled_Yoh = shuffle(Xoh, Yoh, random_state=seed_value) #0\n",
    "#     shuffled_Xoh = Xoh\n",
    "#     shuffled_Yoh = Yoh\n",
    "    \n",
    "#     shuffled_Xoh, _ = np.split(shuffled_Xoh, [int(len(shuffled_Xoh)*0.1)])\n",
    "#     shuffled_Yoh, _ = np.split(shuffled_Yoh, [int(len(shuffled_Yoh)*0.1)])\n",
    "\n",
    "    train_Xoh, test_Xoh = np.split(shuffled_Xoh, [int(len(shuffled_Xoh)*0.9)])\n",
    "    train_Yoh, test_Yoh = np.split(shuffled_Yoh, [int(len(shuffled_Yoh)*0.9)])\n",
    "    \n",
    "    np.save('npy/train_Xoh.npy', train_Xoh)\n",
    "    np.save('npy/test_Xoh.npy', test_Xoh)\n",
    "    np.save('npy/train_Yoh.npy', train_Yoh)\n",
    "    np.save('npy/test_Yoh.npy', test_Yoh)\n",
    "    \n",
    "def loadDataSet():\n",
    "    setting = np.load('npy/setting.npy',allow_pickle='TRUE').item()\n",
    "    \n",
    "    train_Xoh = np.load('npy/train_Xoh.npy')\n",
    "    test_Xoh = np.load('npy/test_Xoh.npy')\n",
    "    train_Yoh = np.load('npy/train_Yoh.npy')\n",
    "    test_Yoh = np.load('npy/test_Yoh.npy')\n",
    "    \n",
    "#     train_Xoh = MaskingOneHot(train_Xoh)\n",
    "#     test_Xoh = MaskingOneHot(test_Xoh)\n",
    "    \n",
    "#     train_Yoh = MaskingOneHot(train_Yoh)\n",
    "#     test_Yoh = MaskingOneHot(test_Yoh)\n",
    "    \n",
    "    return setting, train_Xoh, test_Xoh, train_Yoh, test_Yoh\n",
    "\n",
    "createDataSet()\n",
    "setting, train_Xoh, test_Xoh, train_Yoh, test_Yoh = loadDataSet()\n",
    "\n",
    "Tx = setting['Tx']\n",
    "Ty = setting['Ty']\n",
    "X_dict = setting['X_dict']\n",
    "Y_dict = setting['Y_dict']\n",
    "X_dict_inv = setting['X_dict_inv']\n",
    "Y_dict_inv = setting['Y_dict_inv']\n",
    "x_vocab_len = setting['x_vocab_len']\n",
    "y_vocab_len = setting['y_vocab_len']\n",
    "\n",
    "print(Tx, Ty)\n",
    "# print(X_dict)\n",
    "# print(Y_dict)\n",
    "# print(X_dict_inv)\n",
    "# print(Y_dict_inv)\n",
    "print(x_vocab_len, y_vocab_len)\n",
    "print()\n",
    "len(train_Xoh)"
   ]
  },
  {
   "cell_type": "code",
   "execution_count": 5,
   "id": "settled-spokesman",
   "metadata": {},
   "outputs": [],
   "source": [
    "# print(test_Xoh[0][0])\n",
    "# print(''.join([X_dict_inv.get(j, '?') for j in np.argmax(test_Xoh[index], axis = -1)]).rstrip('<pad>'))"
   ]
  },
  {
   "cell_type": "code",
   "execution_count": 6,
   "id": "tested-closing",
   "metadata": {},
   "outputs": [],
   "source": [
    "# print(X_dict)"
   ]
  },
  {
   "cell_type": "code",
   "execution_count": 7,
   "id": "communist-pregnancy",
   "metadata": {},
   "outputs": [],
   "source": [
    "# print(Y_dict)"
   ]
  },
  {
   "cell_type": "code",
   "execution_count": 8,
   "id": "cutting-matthew",
   "metadata": {},
   "outputs": [],
   "source": [
    "pre_units = 32\n",
    "post_units = 64"
   ]
  },
  {
   "cell_type": "code",
   "execution_count": 9,
   "id": "instructional-identifier",
   "metadata": {},
   "outputs": [],
   "source": [
    "def RNN_Model_Single_Input():\n",
    "    repeator = RepeatVector(2)\n",
    "    pre_Reshape = Reshape((1, pre_units))\n",
    "    post_Reshape = Reshape((1, post_units))\n",
    "    \n",
    "    decode_step = SimpleRNN(post_units, return_state = True)\n",
    "    output_Dense = Dense(y_vocab_len, activation=softmax)\n",
    "\n",
    "    X = Input(shape=(Tx, x_vocab_len))\n",
    "    h0 = Input(shape=(post_units,), name='h0')\n",
    "    h = h0\n",
    "\n",
    "    outputs = []\n",
    "\n",
    "    a = SimpleRNN(pre_units)(X)\n",
    "    \n",
    "    #-----------------------------------------------\n",
    "    \n",
    "    for t in range(Ty):\n",
    "        if t == 0:\n",
    "            a = repeator(a)\n",
    "            a = post_Reshape(a)\n",
    "        else:\n",
    "            a = post_Reshape(h)\n",
    "            \n",
    "        h, _ = decode_step(a, initial_state=[h])\n",
    "        out = output_Dense(h)\n",
    "        outputs.append(out)\n",
    "\n",
    "    model = Model(inputs=[X, h0], outputs=outputs)\n",
    "    \n",
    "    return model\n",
    "\n",
    "def RNN_Model_Same_Input():\n",
    "    decode_step = SimpleRNN(post_units, return_state = True)\n",
    "    output_Dense = Dense(y_vocab_len, activation='softmax')\n",
    "\n",
    "    X = Input(shape=(Tx, x_vocab_len))\n",
    "    h0 = Input(shape=(post_units,), name='h0')\n",
    "    h = h0\n",
    "\n",
    "    outputs = []\n",
    "\n",
    "    a = SimpleRNN(pre_units)(X)\n",
    "    a = Reshape((1, pre_units))(a)\n",
    "    \n",
    "    #-----------------------------------------------\n",
    "    \n",
    "    for t in range(Ty):\n",
    "        h, _ = decode_step(a, initial_state=[h])\n",
    "        out = output_Dense(h)\n",
    "        outputs.append(out)\n",
    "\n",
    "    model = Model(inputs=[X, h0], outputs=outputs)\n",
    "    \n",
    "    return model\n",
    "\n",
    "def LSTM_Model_Same_Input():\n",
    "    decode_step = LSTM(post_units, return_state = True)\n",
    "    output_Dense = Dense(y_vocab_len, activation='softmax')\n",
    "\n",
    "    X = Input(shape=(Tx, x_vocab_len))\n",
    "    h0 = Input(shape=(post_units,), name='h0')\n",
    "    c0 = Input(shape=(post_units,), name='c0')\n",
    "    h = h0\n",
    "    c = c0\n",
    "\n",
    "    outputs = []\n",
    "\n",
    "    a = LSTM(pre_units)(X)\n",
    "    a = Reshape((1, pre_units))(a)\n",
    "    \n",
    "    #-----------------------------------------------\n",
    "    \n",
    "    for t in range(Ty):\n",
    "        h, _, s = decode_step(a, initial_state=[h, c])\n",
    "        out = output_Dense(h)\n",
    "        outputs.append(out)\n",
    "\n",
    "    model = Model(inputs=[X, h0, c0], outputs=outputs)\n",
    "    \n",
    "    return model\n",
    "\n",
    "def Bi_LSTM_Model_Same_Input():\n",
    "    decode_step = LSTM(post_units, return_state = True)\n",
    "    output_Dense = Dense(y_vocab_len, activation='softmax')\n",
    "\n",
    "    X = Input(shape=(Tx, x_vocab_len))\n",
    "    h0 = Input(shape=(post_units,), name='h0')\n",
    "    c0 = Input(shape=(post_units,), name='c0')\n",
    "    h = h0\n",
    "    c = c0\n",
    "\n",
    "    outputs = []\n",
    "\n",
    "    a = Bidirectional(LSTM(pre_units))(X)\n",
    "    a = Reshape((1, pre_units*2))(a)\n",
    "    \n",
    "    #-----------------------------------------------\n",
    "    \n",
    "    for t in range(Ty):\n",
    "        h, _, s = decode_step(a, initial_state=[h, c])\n",
    "        out = output_Dense(h)\n",
    "        outputs.append(out)\n",
    "\n",
    "    model = Model(inputs=[X, h0, c0], outputs=outputs)\n",
    "    \n",
    "    return model\n",
    "\n",
    "def Bi_LSTM_Model_All_Input():\n",
    "    decode_step = LSTM(post_units, return_state = True)\n",
    "    output_Dense = Dense(y_vocab_len, activation='softmax')\n",
    "    \n",
    "    X = Input(shape=(Tx, x_vocab_len))\n",
    "    h0 = Input(shape=(post_units,), name='h0')\n",
    "    c0 = Input(shape=(post_units,), name='c0')\n",
    "    h = h0\n",
    "    c = c0\n",
    "\n",
    "    outputs = []\n",
    "\n",
    "    a = Bidirectional(LSTM(pre_units, return_sequences=True))(X)\n",
    "    \n",
    "    #--------------------------------------------------------------------------------------------------------\n",
    "\n",
    "    for t in range(Ty):\n",
    "        h, _, c = decode_step(a,initial_state=[h, c])\n",
    "\n",
    "        out = output_Dense(h)\n",
    "        outputs.append(out)\n",
    "\n",
    "    \n",
    "    model = Model(inputs=[X, h0, c0], outputs=outputs)\n",
    "    \n",
    "    return model\n",
    "\n",
    "# repeator = RepeatVector(Tx)\n",
    "# concatenator = Concatenate(axis=-1)\n",
    "# densor1 = Dense(10, activation = \"tanh\")\n",
    "# densor2 = Dense(1, activation = \"relu\")\n",
    "# activator = Activation(softmax, name='attention_weights') # We are using a custom softmax(axis = 1) loaded in this notebook\n",
    "# dotor = Dot(axes = 1)\n",
    "\n",
    "# decode_step = LSTM(post_units, return_state = True)\n",
    "# output_Dense = Dense(y_vocab_len, activation='softmax') ## \n",
    "\n",
    "# def one_step_attention(a, pre_h):\n",
    "#     pre_h = repeator(pre_h)\n",
    "#     concat = concatenator([a,pre_h])\n",
    "#     e = densor1(concat)\n",
    "#     energies = densor2(e)\n",
    "#     alphas = activator(energies)\n",
    "#     context = dotor([alphas,a])\n",
    "    \n",
    "#     return context\n",
    "\n",
    "def Bi_LSTM_Model_Attention():\n",
    "    repeator = RepeatVector(Tx)\n",
    "    concatenator = Concatenate(axis=-1)\n",
    "    densor1 = Dense(10, activation = \"tanh\")\n",
    "    densor2 = Dense(1, activation = \"relu\")\n",
    "    activator = Activation(softmax, name='attention_weights') # We are using a custom softmax(axis = 1) loaded in this notebook\n",
    "    dotor = Dot(axes = 1)\n",
    "    \n",
    "    def one_step_attention(a, pre_h):\n",
    "        pre_h = repeator(pre_h)\n",
    "        concat = concatenator([a,pre_h])\n",
    "        e = densor1(concat)\n",
    "        energies = densor2(e)\n",
    "        alphas = activator(energies)\n",
    "        context = dotor([alphas,a])\n",
    "\n",
    "        return context\n",
    "\n",
    "    decode_step = LSTM(post_units, return_state = True)\n",
    "    output_Dense = Dense(y_vocab_len, activation='softmax') ## \n",
    "\n",
    "    X = Input(shape=(Tx, x_vocab_len))\n",
    "    h0 = Input(shape=(post_units,), name='h0')\n",
    "    c0 = Input(shape=(post_units,), name='c0')\n",
    "    h = h0\n",
    "    c = c0\n",
    "\n",
    "    outputs = []\n",
    "    \n",
    "    a = Bidirectional(LSTM(pre_units, return_sequences=True))(X)\n",
    "\n",
    "    for t in range(Ty):\n",
    "        context = one_step_attention(a, h)\n",
    "        h, _, c = decode_step(context,initial_state=[h, c])\n",
    "        out = output_Dense(h)\n",
    "        outputs.append(out)\n",
    "        \n",
    "    model = Model(inputs=[X, h0, c0], outputs=outputs)\n",
    "    \n",
    "    return model\n",
    "\n",
    "model = Bi_LSTM_Model_Attention()\n",
    "\n",
    "# plot_model(model, to_file='model.png', show_shapes=True, show_layer_names=True)"
   ]
  },
  {
   "cell_type": "code",
   "execution_count": 10,
   "id": "criminal-dominant",
   "metadata": {},
   "outputs": [],
   "source": [
    "LR = 0.04927291\n",
    "# LR = 0.005"
   ]
  },
  {
   "cell_type": "code",
   "execution_count": 11,
   "id": "3030387a",
   "metadata": {},
   "outputs": [],
   "source": [
    "d_model = 128\n",
    "class CustomSchedule(tf.keras.optimizers.schedules.LearningRateSchedule):\n",
    "    def __init__(self, d_model, warmup_steps=10):#4000\n",
    "        super(CustomSchedule, self).__init__()\n",
    "\n",
    "        self.d_model = d_model\n",
    "        self.d_model = tf.cast(self.d_model, tf.float32)\n",
    "\n",
    "        self.warmup_steps = warmup_steps\n",
    "\n",
    "    def __call__(self, step):\n",
    "        arg1 = tf.math.rsqrt(step)\n",
    "        arg2 = step * (self.warmup_steps ** -1.5)\n",
    "\n",
    "        return tf.math.rsqrt(self.d_model) * tf.math.minimum(arg1, arg2) + 0.04927291 *0.8#0.8\n",
    "\n",
    "learning_rate = CustomSchedule(d_model)\n",
    "\n",
    "# opt = tf.keras.optimizers.Adam(learning_rate, beta_1=0.9, beta_2=0.98,epsilon=1e-9)"
   ]
  },
  {
   "cell_type": "code",
   "execution_count": 12,
   "id": "warming-potter",
   "metadata": {},
   "outputs": [],
   "source": [
    "# opt = Adam(lr=0.005, beta_1=0.9, beta_2=0.999, decay=0.01)\n",
    "opt = Adam(lr=LR, beta_1=0.9, beta_2=0.999, decay=0.01)#0.05\n",
    "model.compile(optimizer=opt, loss='categorical_crossentropy', metrics=['accuracy'])"
   ]
  },
  {
   "cell_type": "code",
   "execution_count": 13,
   "id": "seventh-closure",
   "metadata": {},
   "outputs": [],
   "source": [
    "def get_attention_map(_model, file_name = False, index=29):\n",
    "    s0 = np.zeros((1, post_units))\n",
    "    c0 = np.zeros((1, post_units))\n",
    "    \n",
    "#     layer = model.layers[8]#7\n",
    "    layer = _model.get_layer('attention_weights')\n",
    "    \n",
    "    oneHot_x = test_Xoh[index]#6 #16 #29\n",
    " \n",
    "\n",
    "    input_text = [X_dict_inv.get(j, '?') for j in np.argmax(oneHot_x, axis = -1)]\n",
    "    oneHot_x = oneHot_x.reshape((1,Tx,x_vocab_len))\n",
    "\n",
    "    f = K.function(_model.inputs, [layer.get_output_at(t) for t in range(Ty)])\n",
    "    r = f([oneHot_x, s0, c0])\n",
    "    \n",
    "    prediction = _model.predict([oneHot_x, s0, c0])\n",
    "    prediction = np.array(prediction).swapaxes(0,1)\n",
    "    output_text = [Y_dict_inv.get(j, '?') for j in np.argmax(prediction[0], axis = -1)]\n",
    "    \n",
    "#     print(input_text)\n",
    "#     print(output_text)\n",
    "    \n",
    "    attention_map = np.zeros((len(output_text), len(input_text)))\n",
    "    \n",
    "    for t in range(len(output_text)):\n",
    "        for t_prime in range(len(input_text)):\n",
    "            attention_map[t][t_prime] = r[t][0,t_prime,0]\n",
    "            \n",
    "    return attention_map"
   ]
  },
  {
   "cell_type": "code",
   "execution_count": 14,
   "id": "animated-priest",
   "metadata": {},
   "outputs": [],
   "source": [
    "s0 = np.zeros((1, post_units))\n",
    "c0 = np.zeros((1, post_units))\n",
    "    \n",
    "def get_predict_text(index=29):\n",
    "    oneHot_x = test_Xoh[index]\n",
    " \n",
    "    oneHot_x = oneHot_x.reshape((1,Tx,x_vocab_len))\n",
    "\n",
    "    prediction = model.predict([oneHot_x, s0, c0])\n",
    "    prediction = np.array(prediction).swapaxes(0,1)\n",
    "    output_text = [Y_dict_inv.get(j, '?') for j in np.argmax(prediction[0], axis = -1)]\n",
    "    \n",
    "    return output_text"
   ]
  },
  {
   "cell_type": "code",
   "execution_count": 15,
   "id": "organic-solid",
   "metadata": {},
   "outputs": [],
   "source": [
    "# path='./model_weights_0.04927291/'\n",
    "# file_list=[img for img in  os.listdir(path)]\n",
    "\n",
    "\n",
    "# for name in file_list:\n",
    "#     source = name\n",
    "#     target = name.replace(\"h5\",\"npy\")\n",
    "#     model.load_weights('model_weights_0.04927291/'+source)\n",
    "#     output_text = get_predict_text()\n",
    "    \n",
    "#     np.save('output_text/'+target, output_text)\n",
    "        \n",
    "# #     model.load_weights('model_weights/'+source)\n",
    "# #     att_map = get_attention_map(model)\n",
    "# #     np.save('attention_weights/'+target, att_map)\n"
   ]
  },
  {
   "cell_type": "code",
   "execution_count": 16,
   "id": "extra-jesus",
   "metadata": {},
   "outputs": [],
   "source": [
    "# path='./model_weights_0.04927291/'\n",
    "# file_list=[img for img in  os.listdir(path)]\n",
    "\n",
    "# for name in image_list:\n",
    "#     source = name\n",
    "#     target = name.replace(\"h5\",\"npy\")\n",
    "    \n",
    "#     model.load_weights('model_weights/'+source)\n",
    "#     att_map = get_attention_map(model)\n",
    "#     np.save('attention_weights/'+target, att_map)\n",
    "#     print(source)\n",
    "#     print(target)"
   ]
  },
  {
   "cell_type": "code",
   "execution_count": 17,
   "id": "controlled-segment",
   "metadata": {},
   "outputs": [],
   "source": [
    "h0 = np.zeros((len(train_Xoh), post_units))\n",
    "c0 = np.zeros((len(train_Xoh), post_units))\n",
    "\n",
    "outputs = list(train_Yoh.swapaxes(0,1))"
   ]
  },
  {
   "cell_type": "code",
   "execution_count": 18,
   "id": "tutorial-plymouth",
   "metadata": {},
   "outputs": [],
   "source": [
    "vh0 = np.zeros((len(test_Xoh), post_units))\n",
    "vc0 = np.zeros((len(test_Xoh), post_units))\n",
    "\n",
    "voutputs = list(test_Yoh.swapaxes(0,1))"
   ]
  },
  {
   "cell_type": "code",
   "execution_count": 19,
   "id": "quiet-dress",
   "metadata": {},
   "outputs": [],
   "source": [
    "import datetime\n",
    "log_dir=\"logs\\\\\" + datetime.datetime.now().strftime(\"%Y_%m_%d-%H_%M_%S\")\n",
    "\n",
    "from tensorflow.keras.callbacks import TensorBoard\n",
    "tensorboard = TensorBoard(log_dir=log_dir, histogram_freq=1)"
   ]
  },
  {
   "cell_type": "code",
   "execution_count": 20,
   "id": "iraqi-analyst",
   "metadata": {},
   "outputs": [],
   "source": [
    "# import matplotlib\n",
    "# # matplotlib.use('Agg')\n",
    "# %matplotlib inline"
   ]
  },
  {
   "cell_type": "code",
   "execution_count": 21,
   "id": "477a9f2b",
   "metadata": {},
   "outputs": [
    {
     "name": "stdout",
     "output_type": "stream",
     "text": [
      "\n"
     ]
    }
   ],
   "source": [
    "def evaluate(sentence):\n",
    "    s0 = np.zeros((1, post_units))\n",
    "    c0 = np.zeros((1, post_units))\n",
    "    \n",
    "#     layer = model.layers[8]#7\n",
    "    layer = model.get_layer('attention_weights')\n",
    "    \n",
    "#     oneHot_x = test_Xoh[index]#6 #16 #29\n",
    "    sentence = \"assign 253 to aot8\"\n",
    "    enc_x = [X_dict[j] for j in sentence]\n",
    "    pad_x = pad_sequences([enc_x], padding=\"post\")\n",
    "    oneHot_x = np.array(list(map(lambda x: to_categorical(x, num_classes=x_vocab_len), pad_x)))\n",
    "    oneHot_x = oneHot_x[0]\n",
    " \n",
    "\n",
    "    input_text = [X_dict_inv.get(j, '?') for j in np.argmax(oneHot_x, axis = -1)]\n",
    "    oneHot_x = oneHot_x.reshape((1,Tx,x_vocab_len))\n",
    "\n",
    "    f = K.function(model.inputs, [layer.get_output_at(t) for t in range(Ty)])\n",
    "    r = f([oneHot_x, s0, c0])\n",
    "    \n",
    "    prediction = model.predict([oneHot_x, s0, c0])\n",
    "    prediction = np.array(prediction).swapaxes(0,1)\n",
    "    output_text = [Y_dict_inv.get(j, '?') for j in np.argmax(prediction[0], axis = -1)]\n",
    "    \n",
    "#     print(input_text)\n",
    "#     print(output_text)\n",
    "    \n",
    "    attention_map = np.zeros((len(output_text), len(input_text)))\n",
    "    \n",
    "    for t in range(len(output_text)):\n",
    "        for t_prime in range(len(input_text)):\n",
    "            attention_map[t][t_prime] = r[t][0,t_prime,0]\n",
    "    \n",
    "    return output_text, attention_map\n",
    "\n",
    "evaluate(\"assign 253 to aot8\")\n",
    "print()"
   ]
  },
  {
   "cell_type": "code",
   "execution_count": 22,
   "id": "minus-limit",
   "metadata": {},
   "outputs": [],
   "source": [
    "def plot_attention_map(file_name = False, index=29):\n",
    "    s0 = np.zeros((1, post_units))\n",
    "    c0 = np.zeros((1, post_units))\n",
    "    \n",
    "#     layer = model.layers[8]#7\n",
    "    layer = model.get_layer('attention_weights')\n",
    "    \n",
    "#     oneHot_x = test_Xoh[index]#6 #16 #29\n",
    "    input_text = \"assign 253 to aot8\"\n",
    "#     enc_x = [X_dict[j] for j in sentence]\n",
    "#     pad_x = pad_sequences([enc_x], padding=\"post\")\n",
    "#     oneHot_x = np.array(list(map(lambda x: to_categorical(x, num_classes=x_vocab_len), pad_x)))\n",
    "#     oneHot_x = oneHot_x[0]\n",
    " \n",
    "\n",
    "#     input_text = [X_dict_inv.get(j, '?') for j in np.argmax(oneHot_x, axis = -1)]\n",
    "#     oneHot_x = oneHot_x.reshape((1,Tx,x_vocab_len))\n",
    "\n",
    "#     f = K.function(_model.inputs, [layer.get_output_at(t) for t in range(Ty)])\n",
    "#     r = f([oneHot_x, s0, c0])\n",
    "    \n",
    "#     prediction = _model.predict([oneHot_x, s0, c0])\n",
    "#     prediction = np.array(prediction).swapaxes(0,1)\n",
    "#     output_text = [Y_dict_inv.get(j, '?') for j in np.argmax(prediction[0], axis = -1)]\n",
    "    \n",
    "# #     print(input_text)\n",
    "# #     print(output_text)\n",
    "    \n",
    "#     attention_map = np.zeros((len(output_text), len(input_text)))\n",
    "    \n",
    "#     for t in range(len(output_text)):\n",
    "#         for t_prime in range(len(input_text)):\n",
    "#             attention_map[t][t_prime] = r[t][0,t_prime,0]\n",
    "\n",
    "    output_text, attention_map = evaluate(input_text)\n",
    "            \n",
    "\n",
    "    input_length = len(input_text)\n",
    "    output_length = len(output_text)#Ty\n",
    "\n",
    "    fig = plt.figure(figsize=(10,10))\n",
    "    ax = fig.add_subplot(1, 1, 1)\n",
    "    \n",
    "    axData = ax.imshow(attention_map, cmap='viridis')\n",
    "    colorBar = fig.colorbar(axData, orientation='horizontal',shrink=0.9)\n",
    "    colorBar.ax.set_xlabel('Alpha value (Probability output of the \"softmax\")', labelpad=2)\n",
    "    \n",
    "    ax.set_xticks(range(input_length))\n",
    "    ax.set_xticklabels(input_text, rotation=0)\n",
    "\n",
    "    ax.set_yticks(range(output_length))\n",
    "    ax.set_yticklabels(output_text)\n",
    "\n",
    "    ax.set_xlabel('Input Sequence')\n",
    "    ax.set_ylabel('Output Sequence')\n",
    "    \n",
    "    ax.grid()\n",
    "    \n",
    "    if file_name:\n",
    "#         plt.savefig(file_name, dpi=300)\n",
    "        plt.savefig(file_name)\n",
    "        plt.close(fig)\n",
    "        \n",
    "# plot_attention_map()"
   ]
  },
  {
   "cell_type": "code",
   "execution_count": 23,
   "id": "critical-authority",
   "metadata": {},
   "outputs": [],
   "source": [
    "def saveModelData(name):\n",
    "    model.save_weights('model_weights/'+name+'.h5')"
   ]
  },
  {
   "cell_type": "code",
   "execution_count": 24,
   "id": "9b41b5c3",
   "metadata": {},
   "outputs": [],
   "source": [
    "def saveAttData(epoch,batch):\n",
    "    sentence = \"assign 253 to aot8\"\n",
    "    input_text = list(sentence)\n",
    "    translated_text, attention_weights = evaluate(sentence)\n",
    "    output_text = list(translated_text)\n",
    "    name = str(epoch).zfill(5)+\"_\"+str(batch).zfill(5)\n",
    "    np.save(\"att_data/npy_att/\"+name+\".npy\", attention_weights)\n",
    "    np.save(\"att_data/npy_outtext/\"+name+\".npy\", output_text)"
   ]
  },
  {
   "cell_type": "code",
   "execution_count": 25,
   "id": "gentle-insertion",
   "metadata": {},
   "outputs": [],
   "source": [
    "class CustomCallback(tf.keras.callbacks.Callback):\n",
    "    epoch = 0\n",
    "    def on_train_batch_end(self, batch, logs=None):\n",
    "#         if self.epoch < 10:\n",
    "#             name = str(self.epoch).zfill(4) +'_'+ str(batch).zfill(3)\n",
    "        saveAttData(self.epoch,batch)\n",
    "        \n",
    "    def on_epoch_end(self, epoch, logs=None):\n",
    "        self.epoch = epoch\n",
    "\n",
    "        plot_attention_map('attentionMap/'+str(epoch).zfill(4)+'_'+str(0).zfill(4)+'.png')\n",
    "#       saveModelData(name)\n",
    "\n",
    "        print(\"End \"+str(epoch)+\" epoch\")"
   ]
  },
  {
   "cell_type": "code",
   "execution_count": 26,
   "id": "approximate-kuwait",
   "metadata": {},
   "outputs": [],
   "source": [
    "# model.save_weights('models/ini_model.h5')"
   ]
  },
  {
   "cell_type": "code",
   "execution_count": 27,
   "id": "final-soviet",
   "metadata": {},
   "outputs": [],
   "source": [
    "# model.load_weights('model_weights_0.04927291/4999_000.h5')"
   ]
  },
  {
   "cell_type": "code",
   "execution_count": 28,
   "id": "valuable-retailer",
   "metadata": {},
   "outputs": [],
   "source": [
    "# plot_attention_map(model)"
   ]
  },
  {
   "cell_type": "code",
   "execution_count": 29,
   "id": "optional-swedish",
   "metadata": {},
   "outputs": [],
   "source": [
    "# model.load_weights('models/tmp_model.h5')"
   ]
  },
  {
   "cell_type": "code",
   "execution_count": 30,
   "id": "applicable-discovery",
   "metadata": {
    "scrolled": true
   },
   "outputs": [],
   "source": [
    "# model.fit([train_Xoh, h0, c0], outputs, validation_data =([test_Xoh, vh0, vc0], voutputs),initial_epoch=50, epochs=1000, batch_size=100, verbose=0, callbacks=[CustomCallback(), tensorboard])"
   ]
  },
  {
   "cell_type": "code",
   "execution_count": 31,
   "id": "guided-discovery",
   "metadata": {
    "scrolled": true
   },
   "outputs": [],
   "source": [
    "# model.fit([train_Xoh, h0, c0], outputs, epochs=1000, batch_size=int(pow(len(train_Xoh),0.5)), verbose=0, callbacks=[CustomCallback()])"
   ]
  },
  {
   "cell_type": "code",
   "execution_count": 32,
   "id": "congressional-flight",
   "metadata": {},
   "outputs": [
    {
     "data": {
      "text/plain": [
       "0.04927291"
      ]
     },
     "execution_count": 32,
     "metadata": {},
     "output_type": "execute_result"
    }
   ],
   "source": [
    "LR"
   ]
  },
  {
   "cell_type": "code",
   "execution_count": 33,
   "id": "entertaining-difference",
   "metadata": {
    "scrolled": true
   },
   "outputs": [],
   "source": [
    "# model.fit([train_Xoh, h0, c0], outputs, initial_epoch=200, epochs=1000, batch_size=100, verbose=0, callbacks=[CustomCallback()])"
   ]
  },
  {
   "cell_type": "code",
   "execution_count": 34,
   "id": "changed-winning",
   "metadata": {
    "scrolled": true
   },
   "outputs": [],
   "source": [
    "# model.fit([train_Xoh, h0, c0], outputs, initial_epoch=0, epochs=2, batch_size=100, verbose=0, callbacks=[CustomCallback(),tensorboard])"
   ]
  },
  {
   "cell_type": "code",
   "execution_count": 35,
   "id": "4aea0c5e",
   "metadata": {
    "scrolled": true
   },
   "outputs": [],
   "source": [
    "# model.fit([train_Xoh, h0, c0], outputs, initial_epoch=0, epochs=30, batch_size=32, verbose=0,callbacks=[CustomCallback()])"
   ]
  },
  {
   "cell_type": "code",
   "execution_count": 36,
   "id": "3f73be49",
   "metadata": {},
   "outputs": [
    {
     "data": {
      "text/plain": [
       "<tensorflow.python.keras.callbacks.History at 0x1776ecb3d68>"
      ]
     },
     "execution_count": 36,
     "metadata": {},
     "output_type": "execute_result"
    }
   ],
   "source": [
    "model.fit([train_Xoh, h0, c0], outputs, initial_epoch=0, epochs=50, batch_size=100, verbose=0)"
   ]
  },
  {
   "cell_type": "code",
   "execution_count": 37,
   "id": "c128add6",
   "metadata": {},
   "outputs": [
    {
     "data": {
      "image/png": "[encoded data removed]",
      "text/plain": [
       "<Figure size 720x720 with 2 Axes>"
      ]
     },
     "metadata": {
      "needs_background": "light"
     },
     "output_type": "display_data"
    }
   ],
   "source": [
    "plot_attention_map()"
   ]
  },
  {
   "cell_type": "code",
   "execution_count": 40,
   "id": "consolidated-factor",
   "metadata": {},
   "outputs": [],
   "source": [
    "# model.load_weights('model_weights/0000_000.h5')"
   ]
  },
  {
   "cell_type": "code",
   "execution_count": 41,
   "id": "726770bb",
   "metadata": {},
   "outputs": [],
   "source": [
    "# model.load_weights('model_weights_0.04927291/4999_000.h5')"
   ]
  },
  {
   "cell_type": "code",
   "execution_count": 42,
   "id": "14699518",
   "metadata": {},
   "outputs": [
    {
     "data": {
      "image/png": "[encoded data removed]",
      "text/plain": [
       "<Figure size 720x720 with 2 Axes>"
      ]
     },
     "metadata": {
      "needs_background": "light"
     },
     "output_type": "display_data"
    }
   ],
   "source": [
    "plot_attention_map()"
   ]
  },
  {
   "cell_type": "code",
   "execution_count": 43,
   "id": "stock-corps",
   "metadata": {},
   "outputs": [
    {
     "data": {
      "image/png": "[encoded data removed]",
      "text/plain": [
       "<Figure size 720x720 with 2 Axes>"
      ]
     },
     "metadata": {
      "needs_background": "light"
     },
     "output_type": "display_data"
    }
   ],
   "source": [
    "plot_attention_map()## 100 100"
   ]
  },
  {
   "cell_type": "code",
   "execution_count": 44,
   "id": "legendary-harassment",
   "metadata": {},
   "outputs": [],
   "source": [
    "# model.save_weights('models/tmp_model_1.h5')"
   ]
  },
  {
   "cell_type": "code",
   "execution_count": 45,
   "id": "beneficial-seeker",
   "metadata": {
    "scrolled": true
   },
   "outputs": [
    {
     "name": "stdout",
     "output_type": "stream",
     "text": [
      "1280/1280 - 6s - loss: 0.0018 - dense_2_loss: 7.2259e-05 - dense_2_1_loss: 1.3354e-04 - dense_2_2_loss: 8.4260e-05 - dense_2_3_loss: 5.0072e-04 - dense_2_4_loss: 1.1406e-04 - dense_2_5_loss: 3.6734e-04 - dense_2_6_loss: 2.3466e-04 - dense_2_7_loss: 1.5960e-04 - dense_2_8_loss: 5.3158e-05 - dense_2_9_loss: 4.2325e-05 - dense_2_10_loss: 4.3647e-05 - dense_2_accuracy: 1.0000 - dense_2_1_accuracy: 1.0000 - dense_2_2_accuracy: 1.0000 - dense_2_3_accuracy: 1.0000 - dense_2_4_accuracy: 1.0000 - dense_2_5_accuracy: 1.0000 - dense_2_6_accuracy: 1.0000 - dense_2_7_accuracy: 1.0000 - dense_2_8_accuracy: 1.0000 - dense_2_9_accuracy: 1.0000 - dense_2_10_accuracy: 1.0000\n"
     ]
    },
    {
     "data": {
      "text/plain": [
       "[0.0018055697408271953,\n",
       " 7.225895e-05,\n",
       " 0.00013353972,\n",
       " 8.426043e-05,\n",
       " 0.00050071895,\n",
       " 0.00011406497,\n",
       " 0.00036734322,\n",
       " 0.00023465743,\n",
       " 0.00015959606,\n",
       " 5.3158157e-05,\n",
       " 4.2324904e-05,\n",
       " 4.364695e-05,\n",
       " 1.0,\n",
       " 1.0,\n",
       " 1.0,\n",
       " 1.0,\n",
       " 1.0,\n",
       " 1.0,\n",
       " 1.0,\n",
       " 1.0,\n",
       " 1.0,\n",
       " 1.0,\n",
       " 1.0]"
      ]
     },
     "execution_count": 45,
     "metadata": {},
     "output_type": "execute_result"
    }
   ],
   "source": [
    "h0_t = np.zeros((len(test_Xoh), post_units))\n",
    "c0_t = np.zeros((len(test_Xoh), post_units))\n",
    "\n",
    "outputs_t = list(test_Yoh.swapaxes(0,1))\n",
    "\n",
    "model.evaluate([test_Xoh, h0_t, c0_t], outputs_t, verbose=2)"
   ]
  },
  {
   "cell_type": "code",
   "execution_count": null,
   "id": "stone-dutch",
   "metadata": {},
   "outputs": [],
   "source": [
    "batch_size = test_Xoh.shape[0]\n",
    "\n",
    "h0_te = np.zeros((batch_size, post_units))\n",
    "c0_te = np.zeros((batch_size, post_units))\n",
    "\n",
    "prediction = model.predict([test_Xoh, h0_te, c0_te])\n",
    "prediction = np.array(prediction).swapaxes(0,1)"
   ]
  },
  {
   "cell_type": "code",
   "execution_count": null,
   "id": "integral-magnitude",
   "metadata": {},
   "outputs": [],
   "source": [
    "index = 29\n",
    "\n",
    "print(''.join([X_dict_inv.get(j, '?') for j in np.argmax(test_Xoh[index], axis = -1)]).rstrip('<pad>'))\n",
    "print(''.join([Y_dict_inv.get(j, '?') for j in np.argmax(prediction[index], axis = -1)]))\n",
    "print(''.join([Y_dict_inv.get(j, '?') for j in np.argmax(test_Yoh[index], axis = -1)]))"
   ]
  },
  {
   "cell_type": "code",
   "execution_count": null,
   "id": "c6a77a7c",
   "metadata": {},
   "outputs": [],
   "source": [
    "def plot_attention_map_from_file(epoch,batch):\n",
    "    sentence = \"assign 253 to aot8\"\n",
    "    input_text = list(sentence)\n",
    "    \n",
    "    name = str(epoch).zfill(5)+\"_\"+str(batch).zfill(5)\n",
    "#         setting = np.load('npy/setting.npy',allow_pickle='TRUE').item()\n",
    "#     print(name)\n",
    "    attention_map = np.load(\"att_data/npy_att/\"+name+\".npy\",allow_pickle='TRUE')#.item()\n",
    "    output_text = np.load(\"att_data/npy_outtext/\"+name+\".npy\")\n",
    "\n",
    "    input_length = len(input_text)\n",
    "    output_length = len(output_text)#Ty\n",
    "\n",
    "    fig = plt.figure(figsize=(10,10))\n",
    "    ax = fig.add_subplot(1, 1, 1)\n",
    "    \n",
    "    axData = ax.imshow(attention_map, cmap='viridis')\n",
    "    colorBar = fig.colorbar(axData, orientation='horizontal',shrink=0.9)\n",
    "    colorBar.ax.set_xlabel('Alpha value (Probability output of the \"softmax\")', labelpad=2)\n",
    "    \n",
    "    ax.set_xticks(range(input_length))\n",
    "    ax.set_xticklabels(input_text, rotation=0)\n",
    "\n",
    "    ax.set_yticks(range(output_length))\n",
    "    ax.set_yticklabels(output_text)\n",
    "\n",
    "    ax.set_xlabel('Input Sequence')\n",
    "    ax.set_ylabel('Output Sequence')\n",
    "    \n",
    "    ax.grid()\n",
    "    \n",
    "#     if file_name:\n",
    "#     plt.savefig('attentionMap/'+name+'.png', dpi=300)\n",
    "#     plt.close(fig)\n",
    "    \n",
    "# plot_attention_map_from_file(28,350)"
   ]
  },
  {
   "cell_type": "code",
   "execution_count": null,
   "id": "0191e1fa",
   "metadata": {},
   "outputs": [],
   "source": []
  }
 ],
 "metadata": {
  "kernelspec": {
   "display_name": "Python [conda env:new] *",
   "language": "python",
   "name": "conda-env-new-py"
  },
  "language_info": {
   "codemirror_mode": {
    "name": "ipython",
    "version": 3
   },
   "file_extension": ".py",
   "mimetype": "text/x-python",
   "name": "python",
   "nbconvert_exporter": "python",
   "pygments_lexer": "ipython3",
   "version": "3.6.13"
  }
 },
 "nbformat": 4,
 "nbformat_minor": 5
}
